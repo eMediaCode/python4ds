{
 "cells": [
  {
   "cell_type": "code",
   "execution_count": 85,
   "metadata": {
    "ExecuteTime": {
     "end_time": "2018-08-13T05:06:13.976703Z",
     "start_time": "2018-08-13T05:06:13.966507Z"
    }
   },
   "outputs": [],
   "source": [
    "from math import factorial as fact\n",
    "import timeit"
   ]
  },
  {
   "cell_type": "code",
   "execution_count": 86,
   "metadata": {
    "ExecuteTime": {
     "end_time": "2018-08-13T05:06:14.281422Z",
     "start_time": "2018-08-13T05:06:14.272245Z"
    }
   },
   "outputs": [
    {
     "name": "stdout",
     "output_type": "stream",
     "text": [
      "120\n"
     ]
    }
   ],
   "source": [
    "print(fact(5))"
   ]
  },
  {
   "cell_type": "code",
   "execution_count": 87,
   "metadata": {
    "ExecuteTime": {
     "end_time": "2018-08-13T05:06:14.683642Z",
     "start_time": "2018-08-13T05:06:14.676056Z"
    }
   },
   "outputs": [],
   "source": [
    "def sol_1():\n",
    "    fact_list = []\n",
    "    for i in range(100, 1000):\n",
    "        d_sum = 0\n",
    "        for digit in [int(d) for d in str(i)]:\n",
    "            d_sum += fact(digit)\n",
    "        if (d_sum == i):\n",
    "            fact_list.append(i)\n",
    "        \n",
    "    return fact_list"
   ]
  },
  {
   "cell_type": "code",
   "execution_count": 88,
   "metadata": {
    "ExecuteTime": {
     "end_time": "2018-08-13T05:06:15.272477Z",
     "start_time": "2018-08-13T05:06:15.254077Z"
    }
   },
   "outputs": [
    {
     "data": {
      "text/plain": [
       "[145]"
      ]
     },
     "execution_count": 88,
     "metadata": {},
     "output_type": "execute_result"
    }
   ],
   "source": [
    "sol_1()"
   ]
  },
  {
   "cell_type": "code",
   "execution_count": 89,
   "metadata": {
    "ExecuteTime": {
     "end_time": "2018-08-13T05:06:15.710759Z",
     "start_time": "2018-08-13T05:06:15.705832Z"
    }
   },
   "outputs": [],
   "source": [
    "def sol_2():\n",
    "    return [i for i in range(100, 1000) if i == sum(fact(int(digit)) for digit in str(i))]"
   ]
  },
  {
   "cell_type": "code",
   "execution_count": 90,
   "metadata": {
    "ExecuteTime": {
     "end_time": "2018-08-13T05:06:16.308077Z",
     "start_time": "2018-08-13T05:06:16.301687Z"
    }
   },
   "outputs": [
    {
     "data": {
      "text/plain": [
       "[145]"
      ]
     },
     "execution_count": 90,
     "metadata": {},
     "output_type": "execute_result"
    }
   ],
   "source": [
    "sol_2()"
   ]
  },
  {
   "cell_type": "code",
   "execution_count": 91,
   "metadata": {
    "ExecuteTime": {
     "end_time": "2018-08-13T05:06:18.039183Z",
     "start_time": "2018-08-13T05:06:16.823461Z"
    }
   },
   "outputs": [
    {
     "name": "stdout",
     "output_type": "stream",
     "text": [
      "1.21 ms ± 0 ns per loop (mean ± std. dev. of 1 run, 1000 loops each)\n"
     ]
    }
   ],
   "source": [
    "%timeit -n 1000 -r 1 sol_1()"
   ]
  },
  {
   "cell_type": "code",
   "execution_count": 92,
   "metadata": {
    "ExecuteTime": {
     "end_time": "2018-08-13T05:06:19.503993Z",
     "start_time": "2018-08-13T05:06:18.041270Z"
    }
   },
   "outputs": [
    {
     "name": "stdout",
     "output_type": "stream",
     "text": [
      "1.4588100910186768\n"
     ]
    }
   ],
   "source": [
    "start = timeit.time.time()\n",
    "for i in range(1000):\n",
    "    sol_1()\n",
    "end = timeit.time.time()\n",
    "print(end - start)"
   ]
  },
  {
   "cell_type": "code",
   "execution_count": 93,
   "metadata": {
    "ExecuteTime": {
     "end_time": "2018-08-13T05:06:21.021879Z",
     "start_time": "2018-08-13T05:06:19.506276Z"
    }
   },
   "outputs": [
    {
     "name": "stdout",
     "output_type": "stream",
     "text": [
      "1.51 ms ± 0 ns per loop (mean ± std. dev. of 1 run, 1000 loops each)\n"
     ]
    }
   ],
   "source": [
    "%timeit -n 1000 -r 1 sol_2()"
   ]
  },
  {
   "cell_type": "code",
   "execution_count": 94,
   "metadata": {
    "ExecuteTime": {
     "end_time": "2018-08-13T05:06:22.553260Z",
     "start_time": "2018-08-13T05:06:21.024536Z"
    }
   },
   "outputs": [
    {
     "name": "stdout",
     "output_type": "stream",
     "text": [
      "1.5250861644744873\n"
     ]
    }
   ],
   "source": [
    "start = timeit.time.time()\n",
    "for i in range(1000):\n",
    "    sol_2()\n",
    "end = timeit.time.time()\n",
    "print(end - start)"
   ]
  }
 ],
 "metadata": {
  "kernelspec": {
   "display_name": "Python 3",
   "language": "python",
   "name": "python3"
  },
  "language_info": {
   "codemirror_mode": {
    "name": "ipython",
    "version": 3
   },
   "file_extension": ".py",
   "mimetype": "text/x-python",
   "name": "python",
   "nbconvert_exporter": "python",
   "pygments_lexer": "ipython3",
   "version": "3.6.5"
  }
 },
 "nbformat": 4,
 "nbformat_minor": 2
}
