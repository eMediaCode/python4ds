{
 "cells": [
  {
   "cell_type": "code",
   "execution_count": 1,
   "metadata": {
    "ExecuteTime": {
     "end_time": "2018-08-13T04:46:30.021616Z",
     "start_time": "2018-08-13T04:46:30.013798Z"
    }
   },
   "outputs": [],
   "source": [
    "from math import factorial as fact"
   ]
  },
  {
   "cell_type": "code",
   "execution_count": 23,
   "metadata": {
    "ExecuteTime": {
     "end_time": "2018-08-13T05:05:57.445775Z",
     "start_time": "2018-08-13T05:05:57.429158Z"
    }
   },
   "outputs": [],
   "source": [
    "def check_num(x):\n",
    "    \"\"\"\n",
    "    Check if 100a + 10b + c = a! + b! + c!\n",
    "    \"\"\"\n",
    "    \n",
    "    a = int(str(x)[0])\n",
    "    b = int(str(x)[1])\n",
    "    c = int(str(x)[2])\n",
    "    \n",
    "    if x == fact(a) + fact(b) + fact(c):\n",
    "        return True\n",
    "    else:\n",
    "        return False"
   ]
  },
  {
   "cell_type": "code",
   "execution_count": 24,
   "metadata": {
    "ExecuteTime": {
     "end_time": "2018-08-13T05:05:59.369337Z",
     "start_time": "2018-08-13T05:05:59.134586Z"
    }
   },
   "outputs": [],
   "source": [
    "def check_all_num():\n",
    "    nums = []\n",
    "    for i in range(100,1000):\n",
    "        if check_num(i):\n",
    "            nums.append(i)\n",
    "    return nums"
   ]
  },
  {
   "cell_type": "code",
   "execution_count": 25,
   "metadata": {
    "ExecuteTime": {
     "end_time": "2018-08-13T05:05:59.984215Z",
     "start_time": "2018-08-13T05:05:59.585948Z"
    }
   },
   "outputs": [
    {
     "data": {
      "text/plain": [
       "[145]"
      ]
     },
     "execution_count": 25,
     "metadata": {},
     "output_type": "execute_result"
    }
   ],
   "source": [
    "check_all_num()"
   ]
  },
  {
   "cell_type": "code",
   "execution_count": 28,
   "metadata": {
    "ExecuteTime": {
     "end_time": "2018-08-13T05:06:02.414223Z",
     "start_time": "2018-08-13T05:06:02.401089Z"
    }
   },
   "outputs": [],
   "source": [
    "def check_all_num_2():\n",
    "\n",
    "    nums = [nums for nums in range(100, 1000) if nums == fact(int(str(nums)[1]))+fact(int(str(nums)[2]))+fact(int(str(nums)[0]))]\n",
    "    return nums"
   ]
  },
  {
   "cell_type": "code",
   "execution_count": 29,
   "metadata": {
    "ExecuteTime": {
     "end_time": "2018-08-13T05:06:03.408596Z",
     "start_time": "2018-08-13T05:06:03.372551Z"
    }
   },
   "outputs": [
    {
     "data": {
      "text/plain": [
       "[145]"
      ]
     },
     "execution_count": 29,
     "metadata": {},
     "output_type": "execute_result"
    }
   ],
   "source": [
    "check_all_num_2()"
   ]
  },
  {
   "cell_type": "code",
   "execution_count": 30,
   "metadata": {
    "ExecuteTime": {
     "end_time": "2018-08-13T05:06:06.104398Z",
     "start_time": "2018-08-13T05:06:05.063520Z"
    }
   },
   "outputs": [],
   "source": [
    "for i in range(1000):\n",
    "    check_all_num()"
   ]
  },
  {
   "cell_type": "code",
   "execution_count": 31,
   "metadata": {
    "ExecuteTime": {
     "end_time": "2018-08-13T05:06:08.259993Z",
     "start_time": "2018-08-13T05:06:07.291960Z"
    }
   },
   "outputs": [],
   "source": [
    "for i in range(1000):\n",
    "    check_all_num_2()"
   ]
  }
 ],
 "metadata": {
  "kernelspec": {
   "display_name": "Python 3",
   "language": "python",
   "name": "python3"
  },
  "language_info": {
   "codemirror_mode": {
    "name": "ipython",
    "version": 3
   },
   "file_extension": ".py",
   "mimetype": "text/x-python",
   "name": "python",
   "nbconvert_exporter": "python",
   "pygments_lexer": "ipython3",
   "version": "3.6.5"
  }
 },
 "nbformat": 4,
 "nbformat_minor": 2
}
