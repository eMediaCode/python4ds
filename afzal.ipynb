{
 "cells": [
  {
   "cell_type": "code",
   "execution_count": 90,
   "metadata": {
    "ExecuteTime": {
     "end_time": "2018-08-13T08:20:46.485427Z",
     "start_time": "2018-08-13T08:20:46.477186Z"
    }
   },
   "outputs": [],
   "source": [
    "from math import factorial as fact"
   ]
  },
  {
   "cell_type": "code",
   "execution_count": 3,
   "metadata": {
    "ExecuteTime": {
     "end_time": "2018-08-13T05:23:49.496952Z",
     "start_time": "2018-08-13T05:23:49.487829Z"
    }
   },
   "outputs": [],
   "source": [
    "def check_num(x):\n",
    "    \"\"\"\n",
    "    Check if 100a + 10b + c = a! + b! + c!\n",
    "    \"\"\"\n",
    "    \n",
    "    a = int(str(x)[0])\n",
    "    b = int(str(x)[1])\n",
    "    c = int(str(x)[2])\n",
    "    \n",
    "    if x == fact(a) + fact(b) + fact(c):\n",
    "        return True\n",
    "    else:\n",
    "        return False"
   ]
  },
  {
   "cell_type": "code",
   "execution_count": 4,
   "metadata": {
    "ExecuteTime": {
     "end_time": "2018-08-13T05:23:49.987916Z",
     "start_time": "2018-08-13T05:23:49.980413Z"
    }
   },
   "outputs": [],
   "source": [
    "def check_all_num():\n",
    "    nums = []\n",
    "    for i in range(100,1000):\n",
    "        if check_num(i):\n",
    "            nums.append(i)\n",
    "    return nums"
   ]
  },
  {
   "cell_type": "code",
   "execution_count": 5,
   "metadata": {
    "ExecuteTime": {
     "end_time": "2018-08-13T05:23:50.380780Z",
     "start_time": "2018-08-13T05:23:50.340949Z"
    }
   },
   "outputs": [
    {
     "data": {
      "text/plain": [
       "[145]"
      ]
     },
     "execution_count": 5,
     "metadata": {},
     "output_type": "execute_result"
    }
   ],
   "source": [
    "check_all_num()"
   ]
  },
  {
   "cell_type": "code",
   "execution_count": 6,
   "metadata": {
    "ExecuteTime": {
     "end_time": "2018-08-13T05:23:50.792912Z",
     "start_time": "2018-08-13T05:23:50.772782Z"
    }
   },
   "outputs": [],
   "source": [
    "def check_all_num_2():\n",
    "\n",
    "    nums = [nums for nums in range(100, 1000) if nums == fact(int(str(nums)[1]))+fact(int(str(nums)[2]))+fact(int(str(nums)[0]))]\n",
    "    return nums"
   ]
  },
  {
   "cell_type": "code",
   "execution_count": 7,
   "metadata": {
    "ExecuteTime": {
     "end_time": "2018-08-13T05:23:51.266618Z",
     "start_time": "2018-08-13T05:23:51.240020Z"
    }
   },
   "outputs": [
    {
     "data": {
      "text/plain": [
       "[145]"
      ]
     },
     "execution_count": 7,
     "metadata": {},
     "output_type": "execute_result"
    }
   ],
   "source": [
    "check_all_num_2()"
   ]
  },
  {
   "cell_type": "code",
   "execution_count": 17,
   "metadata": {
    "ExecuteTime": {
     "end_time": "2018-08-13T06:16:57.284480Z",
     "start_time": "2018-08-13T06:16:57.269502Z"
    }
   },
   "outputs": [],
   "source": [
    "def check_all_num_3():\n",
    "    nums = [(z,y,x)\n",
    "           for z in range(1,10)\n",
    "           for y in range(10)\n",
    "           for x in range(10)\n",
    "           if 100*z+10*y+x == fact(z) + fact(y) + fact(x)]\n",
    "    return nums"
   ]
  },
  {
   "cell_type": "code",
   "execution_count": 18,
   "metadata": {
    "ExecuteTime": {
     "end_time": "2018-08-13T06:16:57.563252Z",
     "start_time": "2018-08-13T06:16:57.547146Z"
    }
   },
   "outputs": [
    {
     "data": {
      "text/plain": [
       "[(1, 4, 5)]"
      ]
     },
     "execution_count": 18,
     "metadata": {},
     "output_type": "execute_result"
    }
   ],
   "source": [
    "check_all_num_3()"
   ]
  },
  {
   "cell_type": "code",
   "execution_count": 19,
   "metadata": {
    "ExecuteTime": {
     "end_time": "2018-08-13T06:16:59.433354Z",
     "start_time": "2018-08-13T06:16:58.294007Z"
    }
   },
   "outputs": [],
   "source": [
    "for i in range(1000):\n",
    "    check_all_num()"
   ]
  },
  {
   "cell_type": "code",
   "execution_count": 20,
   "metadata": {
    "ExecuteTime": {
     "end_time": "2018-08-13T06:17:00.437269Z",
     "start_time": "2018-08-13T06:16:59.434780Z"
    }
   },
   "outputs": [],
   "source": [
    "for i in range(1000):\n",
    "    check_all_num_2()"
   ]
  },
  {
   "cell_type": "code",
   "execution_count": 21,
   "metadata": {
    "ExecuteTime": {
     "end_time": "2018-08-13T06:17:00.717432Z",
     "start_time": "2018-08-13T06:17:00.438473Z"
    }
   },
   "outputs": [],
   "source": [
    "for i in range(1000):\n",
    "    check_all_num_3()"
   ]
  },
  {
   "cell_type": "code",
   "execution_count": 22,
   "metadata": {
    "ExecuteTime": {
     "end_time": "2018-08-13T06:19:42.251613Z",
     "start_time": "2018-08-13T06:19:42.234911Z"
    }
   },
   "outputs": [
    {
     "name": "stdout",
     "output_type": "stream",
     "text": [
      "0 hello\n",
      "1 world\n",
      "2 there\n"
     ]
    }
   ],
   "source": [
    "docs = [\"hello\", \"world\", \"there\"]\n",
    "for i, item in enumerate(docs):\n",
    "    print(i, item)"
   ]
  },
  {
   "cell_type": "markdown",
   "metadata": {},
   "source": [
    "# Plot a histogram"
   ]
  },
  {
   "cell_type": "code",
   "execution_count": 30,
   "metadata": {
    "ExecuteTime": {
     "end_time": "2018-08-13T06:31:59.681705Z",
     "start_time": "2018-08-13T06:31:59.675983Z"
    }
   },
   "outputs": [],
   "source": [
    "#list_of_words = []\n",
    "with open('readme_pandas.txt') as text_file:\n",
    "    list_of_words = text_file.read().split()"
   ]
  },
  {
   "cell_type": "code",
   "execution_count": 31,
   "metadata": {
    "ExecuteTime": {
     "end_time": "2018-08-13T06:32:00.708493Z",
     "start_time": "2018-08-13T06:32:00.394985Z"
    },
    "scrolled": true
   },
   "outputs": [
    {
     "data": {
      "text/plain": [
       "['What',\n",
       " 'is',\n",
       " 'it?',\n",
       " 'pandas',\n",
       " 'is',\n",
       " 'a',\n",
       " 'Python',\n",
       " 'package',\n",
       " 'providing',\n",
       " 'fast,',\n",
       " 'flexible,',\n",
       " 'and',\n",
       " 'expressive',\n",
       " 'data',\n",
       " 'structures',\n",
       " 'designed',\n",
       " 'to',\n",
       " 'make',\n",
       " 'working',\n",
       " 'with',\n",
       " '\"relational\"',\n",
       " 'or',\n",
       " '\"labeled\"',\n",
       " 'data',\n",
       " 'both',\n",
       " 'easy',\n",
       " 'and',\n",
       " 'intuitive.',\n",
       " 'It',\n",
       " 'aims',\n",
       " 'to',\n",
       " 'be',\n",
       " 'the',\n",
       " 'fundamental',\n",
       " 'high-level',\n",
       " 'building',\n",
       " 'block',\n",
       " 'for',\n",
       " 'doing',\n",
       " 'practical,',\n",
       " 'real',\n",
       " 'world',\n",
       " 'data',\n",
       " 'analysis',\n",
       " 'in',\n",
       " 'Python.',\n",
       " 'Additionally,',\n",
       " 'it',\n",
       " 'has',\n",
       " 'the',\n",
       " 'broader',\n",
       " 'goal',\n",
       " 'of',\n",
       " 'becoming',\n",
       " 'the',\n",
       " 'most',\n",
       " 'powerful',\n",
       " 'and',\n",
       " 'flexible',\n",
       " 'open',\n",
       " 'source',\n",
       " 'data',\n",
       " 'analysis',\n",
       " '/',\n",
       " 'manipulation',\n",
       " 'tool',\n",
       " 'available',\n",
       " 'in',\n",
       " 'any',\n",
       " 'language.',\n",
       " 'It',\n",
       " 'is',\n",
       " 'already',\n",
       " 'well',\n",
       " 'on',\n",
       " 'its',\n",
       " 'way',\n",
       " 'toward',\n",
       " 'this',\n",
       " 'goal.',\n",
       " 'Main',\n",
       " 'Features',\n",
       " 'Here',\n",
       " 'are',\n",
       " 'just',\n",
       " 'a',\n",
       " 'few',\n",
       " 'of',\n",
       " 'the',\n",
       " 'things',\n",
       " 'that',\n",
       " 'pandas',\n",
       " 'does',\n",
       " 'well:',\n",
       " 'Easy',\n",
       " 'handling',\n",
       " 'of',\n",
       " 'missing',\n",
       " 'data',\n",
       " '(represented',\n",
       " 'as',\n",
       " 'NaN)',\n",
       " 'in',\n",
       " 'floating',\n",
       " 'point',\n",
       " 'as',\n",
       " 'well',\n",
       " 'as',\n",
       " 'non-floating',\n",
       " 'point',\n",
       " 'data',\n",
       " 'Size',\n",
       " 'mutability:',\n",
       " 'columns',\n",
       " 'can',\n",
       " 'be',\n",
       " 'inserted',\n",
       " 'and',\n",
       " 'deleted',\n",
       " 'from',\n",
       " 'DataFrame',\n",
       " 'and',\n",
       " 'higher',\n",
       " 'dimensional',\n",
       " 'objects',\n",
       " 'Automatic',\n",
       " 'and',\n",
       " 'explicit',\n",
       " 'data',\n",
       " 'alignment:',\n",
       " 'objects',\n",
       " 'can',\n",
       " 'be',\n",
       " 'explicitly',\n",
       " 'aligned',\n",
       " 'to',\n",
       " 'a',\n",
       " 'set',\n",
       " 'of',\n",
       " 'labels,',\n",
       " 'or',\n",
       " 'the',\n",
       " 'user',\n",
       " 'can',\n",
       " 'simply',\n",
       " 'ignore',\n",
       " 'the',\n",
       " 'labels',\n",
       " 'and',\n",
       " 'let',\n",
       " 'Series,',\n",
       " 'DataFrame,',\n",
       " 'etc.',\n",
       " 'automatically',\n",
       " 'align',\n",
       " 'the',\n",
       " 'data',\n",
       " 'for',\n",
       " 'you',\n",
       " 'in',\n",
       " 'computations',\n",
       " 'Powerful,',\n",
       " 'flexible',\n",
       " 'group',\n",
       " 'by',\n",
       " 'functionality',\n",
       " 'to',\n",
       " 'perform',\n",
       " 'split-apply-combine',\n",
       " 'operations',\n",
       " 'on',\n",
       " 'data',\n",
       " 'sets,',\n",
       " 'for',\n",
       " 'both',\n",
       " 'aggregating',\n",
       " 'and',\n",
       " 'transforming',\n",
       " 'data',\n",
       " 'Make',\n",
       " 'it',\n",
       " 'easy',\n",
       " 'to',\n",
       " 'convert',\n",
       " 'ragged,',\n",
       " 'differently-indexed',\n",
       " 'data',\n",
       " 'in',\n",
       " 'other',\n",
       " 'Python',\n",
       " 'and',\n",
       " 'NumPy',\n",
       " 'data',\n",
       " 'structures',\n",
       " 'into',\n",
       " 'DataFrame',\n",
       " 'objects',\n",
       " 'Intelligent',\n",
       " 'label-based',\n",
       " 'slicing,',\n",
       " 'fancy',\n",
       " 'indexing,',\n",
       " 'and',\n",
       " 'subsetting',\n",
       " 'of',\n",
       " 'large',\n",
       " 'data',\n",
       " 'sets',\n",
       " 'Intuitive',\n",
       " 'merging',\n",
       " 'and',\n",
       " 'joining',\n",
       " 'data',\n",
       " 'sets',\n",
       " 'Flexible',\n",
       " 'reshaping',\n",
       " 'and',\n",
       " 'pivoting',\n",
       " 'of',\n",
       " 'data',\n",
       " 'sets',\n",
       " 'Hierarchical',\n",
       " 'labeling',\n",
       " 'of',\n",
       " 'axes',\n",
       " '(possible',\n",
       " 'to',\n",
       " 'have',\n",
       " 'multiple',\n",
       " 'labels',\n",
       " 'per',\n",
       " 'tick)',\n",
       " 'Robust',\n",
       " 'IO',\n",
       " 'tools',\n",
       " 'for',\n",
       " 'loading',\n",
       " 'data',\n",
       " 'from',\n",
       " 'flat',\n",
       " 'files',\n",
       " '(CSV',\n",
       " 'and',\n",
       " 'delimited),',\n",
       " 'Excel',\n",
       " 'files,',\n",
       " 'databases,',\n",
       " 'and',\n",
       " 'saving/loading',\n",
       " 'data',\n",
       " 'from',\n",
       " 'the',\n",
       " 'ultrafast',\n",
       " 'HDF5',\n",
       " 'format',\n",
       " 'Time',\n",
       " 'series-specific',\n",
       " 'functionality:',\n",
       " 'date',\n",
       " 'range',\n",
       " 'generation',\n",
       " 'and',\n",
       " 'frequency',\n",
       " 'conversion,',\n",
       " 'moving',\n",
       " 'window',\n",
       " 'statistics,',\n",
       " 'moving',\n",
       " 'window',\n",
       " 'linear',\n",
       " 'regressions,',\n",
       " 'date',\n",
       " 'shifting',\n",
       " 'and',\n",
       " 'lagging,',\n",
       " 'etc.',\n",
       " 'Where',\n",
       " 'to',\n",
       " 'get',\n",
       " 'it',\n",
       " 'The',\n",
       " 'source',\n",
       " 'code',\n",
       " 'is',\n",
       " 'currently',\n",
       " 'hosted',\n",
       " 'on',\n",
       " 'GitHub',\n",
       " 'at:',\n",
       " 'https://github.com/pandas-dev/pandas',\n",
       " 'Binary',\n",
       " 'installers',\n",
       " 'for',\n",
       " 'the',\n",
       " 'latest',\n",
       " 'released',\n",
       " 'version',\n",
       " 'are',\n",
       " 'available',\n",
       " 'at',\n",
       " 'the',\n",
       " 'Python',\n",
       " 'package',\n",
       " 'index',\n",
       " 'and',\n",
       " 'on',\n",
       " 'conda.',\n",
       " '#',\n",
       " 'conda',\n",
       " 'conda',\n",
       " 'install',\n",
       " 'pandas',\n",
       " '#',\n",
       " 'or',\n",
       " 'PyPI',\n",
       " 'pip',\n",
       " 'install',\n",
       " 'pandas',\n",
       " 'Dependencies',\n",
       " 'NumPy:',\n",
       " '1.9.0',\n",
       " 'or',\n",
       " 'higher',\n",
       " 'python-dateutil:',\n",
       " '2.5.0',\n",
       " 'or',\n",
       " 'higher',\n",
       " 'pytz:',\n",
       " '2011k',\n",
       " 'or',\n",
       " 'higher',\n",
       " 'See',\n",
       " 'the',\n",
       " 'full',\n",
       " 'installation',\n",
       " 'instructions',\n",
       " 'for',\n",
       " 'recommended',\n",
       " 'and',\n",
       " 'optional',\n",
       " 'dependencies.',\n",
       " 'Installation',\n",
       " 'from',\n",
       " 'sources',\n",
       " 'To',\n",
       " 'install',\n",
       " 'pandas',\n",
       " 'from',\n",
       " 'source',\n",
       " 'you',\n",
       " 'need',\n",
       " 'Cython',\n",
       " 'in',\n",
       " 'addition',\n",
       " 'to',\n",
       " 'the',\n",
       " 'normal',\n",
       " 'dependencies',\n",
       " 'above.',\n",
       " 'Cython',\n",
       " 'can',\n",
       " 'be',\n",
       " 'installed',\n",
       " 'from',\n",
       " 'pypi:',\n",
       " 'pip',\n",
       " 'install',\n",
       " 'cython',\n",
       " 'In',\n",
       " 'the',\n",
       " 'pandas',\n",
       " 'directory',\n",
       " '(same',\n",
       " 'one',\n",
       " 'where',\n",
       " 'you',\n",
       " 'found',\n",
       " 'this',\n",
       " 'file',\n",
       " 'after',\n",
       " 'cloning',\n",
       " 'the',\n",
       " 'git',\n",
       " 'repo),',\n",
       " 'execute:',\n",
       " 'python',\n",
       " 'setup.py',\n",
       " 'install',\n",
       " 'or',\n",
       " 'for',\n",
       " 'installing',\n",
       " 'in',\n",
       " 'development',\n",
       " 'mode:',\n",
       " 'python',\n",
       " 'setup.py',\n",
       " 'develop',\n",
       " 'Alternatively,',\n",
       " 'you',\n",
       " 'can',\n",
       " 'use',\n",
       " 'pip',\n",
       " 'if',\n",
       " 'you',\n",
       " 'want',\n",
       " 'all',\n",
       " 'the',\n",
       " 'dependencies',\n",
       " 'pulled',\n",
       " 'in',\n",
       " 'automatically',\n",
       " '(the',\n",
       " '-e',\n",
       " 'option',\n",
       " 'is',\n",
       " 'for',\n",
       " 'installing',\n",
       " 'it',\n",
       " 'in',\n",
       " 'development',\n",
       " 'mode):',\n",
       " 'pip',\n",
       " 'install',\n",
       " '-e',\n",
       " '.',\n",
       " 'See',\n",
       " 'the',\n",
       " 'full',\n",
       " 'instructions',\n",
       " 'for',\n",
       " 'installing',\n",
       " 'from',\n",
       " 'source.',\n",
       " 'License',\n",
       " 'BSD',\n",
       " '3',\n",
       " 'Documentation',\n",
       " 'The',\n",
       " 'official',\n",
       " 'documentation',\n",
       " 'is',\n",
       " 'hosted',\n",
       " 'on',\n",
       " 'PyData.org:',\n",
       " 'https://pandas.pydata.org/pandas-docs/stable',\n",
       " 'Background',\n",
       " 'Work',\n",
       " 'on',\n",
       " 'pandas',\n",
       " 'started',\n",
       " 'at',\n",
       " 'AQR',\n",
       " '(a',\n",
       " 'quantitative',\n",
       " 'hedge',\n",
       " 'fund)',\n",
       " 'in',\n",
       " '2008',\n",
       " 'and',\n",
       " 'has',\n",
       " 'been',\n",
       " 'under',\n",
       " 'active',\n",
       " 'development',\n",
       " 'since',\n",
       " 'then.',\n",
       " 'Getting',\n",
       " 'Help',\n",
       " 'For',\n",
       " 'usage',\n",
       " 'questions,',\n",
       " 'the',\n",
       " 'best',\n",
       " 'place',\n",
       " 'to',\n",
       " 'go',\n",
       " 'to',\n",
       " 'is',\n",
       " 'StackOverflow.',\n",
       " 'Further,',\n",
       " 'general',\n",
       " 'questions',\n",
       " 'and',\n",
       " 'discussions',\n",
       " 'can',\n",
       " 'also',\n",
       " 'take',\n",
       " 'place',\n",
       " 'on',\n",
       " 'the',\n",
       " 'pydata',\n",
       " 'mailing',\n",
       " 'list.',\n",
       " 'Discussion',\n",
       " 'and',\n",
       " 'Development',\n",
       " 'Most',\n",
       " 'development',\n",
       " 'discussion',\n",
       " 'is',\n",
       " 'taking',\n",
       " 'place',\n",
       " 'on',\n",
       " 'github',\n",
       " 'in',\n",
       " 'this',\n",
       " 'repo.',\n",
       " 'Further,',\n",
       " 'the',\n",
       " 'pandas-dev',\n",
       " 'mailing',\n",
       " 'list',\n",
       " 'can',\n",
       " 'also',\n",
       " 'be',\n",
       " 'used',\n",
       " 'for',\n",
       " 'specialized',\n",
       " 'discussions',\n",
       " 'or',\n",
       " 'design',\n",
       " 'issues,',\n",
       " 'and',\n",
       " 'a',\n",
       " 'Gitter',\n",
       " 'channel',\n",
       " 'is',\n",
       " 'available',\n",
       " 'for',\n",
       " 'quick',\n",
       " 'development',\n",
       " 'related',\n",
       " 'questions.',\n",
       " 'Contributing',\n",
       " 'to',\n",
       " 'pandas',\n",
       " 'Open',\n",
       " 'Source',\n",
       " 'Helpers',\n",
       " 'All',\n",
       " 'contributions,',\n",
       " 'bug',\n",
       " 'reports,',\n",
       " 'bug',\n",
       " 'fixes,',\n",
       " 'documentation',\n",
       " 'improvements,',\n",
       " 'enhancements',\n",
       " 'and',\n",
       " 'ideas',\n",
       " 'are',\n",
       " 'welcome.',\n",
       " 'A',\n",
       " 'detailed',\n",
       " 'overview',\n",
       " 'on',\n",
       " 'how',\n",
       " 'to',\n",
       " 'contribute',\n",
       " 'can',\n",
       " 'be',\n",
       " 'found',\n",
       " 'in',\n",
       " 'the',\n",
       " 'contributing',\n",
       " 'guide.',\n",
       " 'If',\n",
       " 'you',\n",
       " 'are',\n",
       " 'simply',\n",
       " 'looking',\n",
       " 'to',\n",
       " 'start',\n",
       " 'working',\n",
       " 'with',\n",
       " 'the',\n",
       " 'pandas',\n",
       " 'codebase,',\n",
       " 'navigate',\n",
       " 'to',\n",
       " 'the',\n",
       " 'GitHub',\n",
       " '“issues”',\n",
       " 'tab',\n",
       " 'and',\n",
       " 'start',\n",
       " 'looking',\n",
       " 'through',\n",
       " 'interesting',\n",
       " 'issues.',\n",
       " 'There',\n",
       " 'are',\n",
       " 'a',\n",
       " 'number',\n",
       " 'of',\n",
       " 'issues',\n",
       " 'listed',\n",
       " 'under',\n",
       " 'Docs',\n",
       " 'and',\n",
       " 'good',\n",
       " 'first',\n",
       " 'issue',\n",
       " 'where',\n",
       " 'you',\n",
       " 'could',\n",
       " 'start',\n",
       " 'out.',\n",
       " 'You',\n",
       " 'can',\n",
       " 'also',\n",
       " 'triage',\n",
       " 'issues',\n",
       " 'which',\n",
       " 'may',\n",
       " 'include',\n",
       " 'reproducing',\n",
       " 'bug',\n",
       " 'reports,',\n",
       " 'or',\n",
       " 'asking',\n",
       " 'for',\n",
       " 'vital',\n",
       " 'information',\n",
       " 'such',\n",
       " 'as',\n",
       " 'version',\n",
       " 'numbers',\n",
       " 'or',\n",
       " 'reproduction',\n",
       " 'instructions.',\n",
       " 'If',\n",
       " 'you',\n",
       " 'would',\n",
       " 'like',\n",
       " 'to',\n",
       " 'start',\n",
       " 'triaging',\n",
       " 'issues,',\n",
       " 'one',\n",
       " 'easy',\n",
       " 'way',\n",
       " 'to',\n",
       " 'get',\n",
       " 'started',\n",
       " 'is',\n",
       " 'to',\n",
       " 'subscribe',\n",
       " 'to',\n",
       " 'pandas',\n",
       " 'on',\n",
       " 'CodeTriage.',\n",
       " 'Or',\n",
       " 'maybe',\n",
       " 'through',\n",
       " 'using',\n",
       " 'pandas',\n",
       " 'you',\n",
       " 'have',\n",
       " 'an',\n",
       " 'idea',\n",
       " 'of',\n",
       " 'your',\n",
       " 'own',\n",
       " 'or',\n",
       " 'are',\n",
       " 'looking',\n",
       " 'for',\n",
       " 'something',\n",
       " 'in',\n",
       " 'the',\n",
       " 'documentation',\n",
       " 'and',\n",
       " 'thinking',\n",
       " '‘this',\n",
       " 'can',\n",
       " 'be',\n",
       " 'improved’...you',\n",
       " 'can',\n",
       " 'do',\n",
       " 'something',\n",
       " 'about',\n",
       " 'it!',\n",
       " 'Feel',\n",
       " 'free',\n",
       " 'to',\n",
       " 'ask',\n",
       " 'questions',\n",
       " 'on',\n",
       " 'the',\n",
       " 'mailing',\n",
       " 'list',\n",
       " 'or',\n",
       " 'on',\n",
       " 'Gitter.']"
      ]
     },
     "execution_count": 31,
     "metadata": {},
     "output_type": "execute_result"
    }
   ],
   "source": [
    "list_of_words"
   ]
  },
  {
   "cell_type": "code",
   "execution_count": 32,
   "metadata": {
    "ExecuteTime": {
     "end_time": "2018-08-13T06:37:00.850099Z",
     "start_time": "2018-08-13T06:37:00.834990Z"
    }
   },
   "outputs": [],
   "source": [
    "from collections import Counter"
   ]
  },
  {
   "cell_type": "code",
   "execution_count": 36,
   "metadata": {
    "ExecuteTime": {
     "end_time": "2018-08-13T06:45:07.326616Z",
     "start_time": "2018-08-13T06:45:07.315535Z"
    }
   },
   "outputs": [],
   "source": [
    "count_of_words = Counter(list_of_words)"
   ]
  },
  {
   "cell_type": "code",
   "execution_count": 41,
   "metadata": {
    "ExecuteTime": {
     "end_time": "2018-08-13T06:48:44.844314Z",
     "start_time": "2018-08-13T06:48:44.832398Z"
    }
   },
   "outputs": [],
   "source": [
    "top_10_count = count_of_words.most_common(10)"
   ]
  },
  {
   "cell_type": "code",
   "execution_count": 42,
   "metadata": {
    "ExecuteTime": {
     "end_time": "2018-08-13T06:49:00.546155Z",
     "start_time": "2018-08-13T06:49:00.530922Z"
    }
   },
   "outputs": [
    {
     "data": {
      "text/plain": [
       "[('and', 26),\n",
       " ('the', 24),\n",
       " ('to', 19),\n",
       " ('data', 17),\n",
       " ('for', 13),\n",
       " ('in', 13),\n",
       " ('or', 12),\n",
       " ('on', 12),\n",
       " ('pandas', 11),\n",
       " ('can', 11)]"
      ]
     },
     "execution_count": 42,
     "metadata": {},
     "output_type": "execute_result"
    }
   ],
   "source": [
    "top_10_count"
   ]
  },
  {
   "cell_type": "code",
   "execution_count": 43,
   "metadata": {
    "ExecuteTime": {
     "end_time": "2018-08-13T06:52:48.952617Z",
     "start_time": "2018-08-13T06:52:45.286924Z"
    }
   },
   "outputs": [],
   "source": [
    "import matplotlib.pyplot as plt"
   ]
  },
  {
   "cell_type": "code",
   "execution_count": 44,
   "metadata": {
    "ExecuteTime": {
     "end_time": "2018-08-13T06:52:56.023103Z",
     "start_time": "2018-08-13T06:52:55.842900Z"
    }
   },
   "outputs": [],
   "source": [
    "%matplotlib inline"
   ]
  },
  {
   "cell_type": "code",
   "execution_count": 71,
   "metadata": {
    "ExecuteTime": {
     "end_time": "2018-08-13T07:33:40.982927Z",
     "start_time": "2018-08-13T07:33:40.805917Z"
    }
   },
   "outputs": [
    {
     "data": {
      "text/plain": [
       "<Container object of 10 artists>"
      ]
     },
     "execution_count": 71,
     "metadata": {},
     "output_type": "execute_result"
    },
    {
     "data": {
      "image/png": "[encoded data removed]",
      "text/plain": [
       "<matplotlib.figure.Figure at 0x7f10e9941c50>"
      ]
     },
     "metadata": {},
     "output_type": "display_data"
    }
   ],
   "source": [
    "plt.bar(x=[x[0] for x in top_10_count], height=[x[1] for x in top_10_count])"
   ]
  },
  {
   "cell_type": "markdown",
   "metadata": {},
   "source": [
    "# Map Reduce Filter"
   ]
  },
  {
   "cell_type": "code",
   "execution_count": 141,
   "metadata": {
    "ExecuteTime": {
     "end_time": "2018-08-13T08:48:07.265737Z",
     "start_time": "2018-08-13T08:48:06.831014Z"
    }
   },
   "outputs": [],
   "source": [
    "#Map\n",
    "\n",
    "nums = list(map(lambda x: (x[0],x[1],x[2], sum(map(fact,x))), [(z,y,x)\n",
    "           for z in range(1,10)\n",
    "           for y in range(10)\n",
    "           for x in range(10)]))\n",
    "\n"
   ]
  },
  {
   "cell_type": "code",
   "execution_count": 142,
   "metadata": {
    "ExecuteTime": {
     "end_time": "2018-08-13T08:48:08.673931Z",
     "start_time": "2018-08-13T08:48:07.272521Z"
    }
   },
   "outputs": [],
   "source": [
    "#Reduce\n",
    "\n",
    "nums_final = list(filter(lambda x: (x[3] == 100*x[0]+10*x[1]+x[2]), nums))"
   ]
  },
  {
   "cell_type": "code",
   "execution_count": 143,
   "metadata": {
    "ExecuteTime": {
     "end_time": "2018-08-13T08:48:09.935022Z",
     "start_time": "2018-08-13T08:48:08.686827Z"
    },
    "scrolled": true
   },
   "outputs": [
    {
     "data": {
      "text/plain": [
       "145"
      ]
     },
     "execution_count": 143,
     "metadata": {},
     "output_type": "execute_result"
    }
   ],
   "source": [
    "nums_final[0][-1]"
   ]
  },
  {
   "cell_type": "code",
   "execution_count": null,
   "metadata": {},
   "outputs": [],
   "source": []
  }
 ],
 "metadata": {
  "kernelspec": {
   "display_name": "Python 3",
   "language": "python",
   "name": "python3"
  },
  "language_info": {
   "codemirror_mode": {
    "name": "ipython",
    "version": 3
   },
   "file_extension": ".py",
   "mimetype": "text/x-python",
   "name": "python",
   "nbconvert_exporter": "python",
   "pygments_lexer": "ipython3",
   "version": "3.6.5"
  }
 },
 "nbformat": 4,
 "nbformat_minor": 2
}
