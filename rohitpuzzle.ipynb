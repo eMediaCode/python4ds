{
 "cells": [
  {
   "cell_type": "code",
   "execution_count": 28,
   "metadata": {
    "ExecuteTime": {
     "end_time": "2018-08-13T06:56:15.834429Z",
     "start_time": "2018-08-13T06:56:07.322860Z"
    }
   },
   "outputs": [],
   "source": [
    "from math import factorial as fac\n",
    "from collections import Counter\n",
    "import seaborn as sns"
   ]
  },
  {
   "cell_type": "code",
   "execution_count": 21,
   "metadata": {
    "ExecuteTime": {
     "end_time": "2018-08-13T04:57:03.919205Z",
     "start_time": "2018-08-13T04:57:03.915865Z"
    }
   },
   "outputs": [],
   "source": [
    "def digifact():\n",
    "    l=[]\n",
    "    for x in range(1,10):\n",
    "        for y in range(10):\n",
    "            for z in range(10):\n",
    "                if 100*x +10*y + z == fac(x) + fac(y) + fac(z):\n",
    "                    l.append((x,y,z))\n",
    "    return l"
   ]
  },
  {
   "cell_type": "code",
   "execution_count": 33,
   "metadata": {
    "ExecuteTime": {
     "end_time": "2018-08-13T05:06:52.776912Z",
     "start_time": "2018-08-13T05:06:52.773723Z"
    }
   },
   "outputs": [],
   "source": [
    "def sumfact1():\n",
    "    return [(x,y,z) for x in range(1,10) for y in range(10) for z in range(10) if int(str(x)+str(y)+str(z)) == fac(x) + fac(y) + fac(z)]"
   ]
  },
  {
   "cell_type": "code",
   "execution_count": 34,
   "metadata": {
    "ExecuteTime": {
     "end_time": "2018-08-13T05:06:54.325313Z",
     "start_time": "2018-08-13T05:06:54.322749Z"
    }
   },
   "outputs": [],
   "source": [
    "def sumfact():\n",
    "    return [(x,y,z) for x in range(1,10) for y in range(10) for z in range(10) if 100*x + 10*y + z == fac(x) + fac(y) + fac(z)]"
   ]
  },
  {
   "cell_type": "code",
   "execution_count": 35,
   "metadata": {
    "ExecuteTime": {
     "end_time": "2018-08-13T05:06:59.647521Z",
     "start_time": "2018-08-13T05:06:59.416461Z"
    }
   },
   "outputs": [],
   "source": [
    "for x in range(1000):\n",
    "    sumfact()"
   ]
  },
  {
   "cell_type": "code",
   "execution_count": 36,
   "metadata": {
    "ExecuteTime": {
     "end_time": "2018-08-13T05:07:01.668435Z",
     "start_time": "2018-08-13T05:07:01.430854Z"
    }
   },
   "outputs": [],
   "source": [
    "for x in range(1000):\n",
    "    digifact()"
   ]
  },
  {
   "cell_type": "code",
   "execution_count": 1,
   "metadata": {
    "ExecuteTime": {
     "end_time": "2018-08-13T06:33:03.637143Z",
     "start_time": "2018-08-13T06:33:03.594108Z"
    }
   },
   "outputs": [
    {
     "ename": "NameError",
     "evalue": "name 'sumfact1' is not defined",
     "output_type": "error",
     "traceback": [
      "\u001b[0;31m---------------------------------------------------------------------------\u001b[0m",
      "\u001b[0;31mNameError\u001b[0m                                 Traceback (most recent call last)",
      "\u001b[0;32m<ipython-input-1-46bd616c0da3>\u001b[0m in \u001b[0;36m<module>\u001b[0;34m()\u001b[0m\n\u001b[1;32m      1\u001b[0m \u001b[0;32mfor\u001b[0m \u001b[0mx\u001b[0m \u001b[0;32min\u001b[0m \u001b[0mrange\u001b[0m\u001b[0;34m(\u001b[0m\u001b[0;36m1000\u001b[0m\u001b[0;34m)\u001b[0m\u001b[0;34m:\u001b[0m\u001b[0;34m\u001b[0m\u001b[0m\n\u001b[0;32m----> 2\u001b[0;31m     \u001b[0msumfact1\u001b[0m\u001b[0;34m(\u001b[0m\u001b[0;34m)\u001b[0m\u001b[0;34m\u001b[0m\u001b[0m\n\u001b[0m",
      "\u001b[0;31mNameError\u001b[0m: name 'sumfact1' is not defined"
     ]
    }
   ],
   "source": [
    "for x in range(1000):\n",
    "    sumfact1()"
   ]
  },
  {
   "cell_type": "code",
   "execution_count": 16,
   "metadata": {
    "ExecuteTime": {
     "end_time": "2018-08-13T06:48:47.729371Z",
     "start_time": "2018-08-13T06:48:47.726346Z"
    }
   },
   "outputs": [
    {
     "name": "stdout",
     "output_type": "stream",
     "text": [
      "['What', 'is', 'it?', 'pandas', 'is', 'a', 'Python', 'package', 'providing', 'fast,', 'flexible,', 'and', 'expressive', 'data', 'structures', 'designed', 'to', 'make', 'working', 'with', '\"relational\"', 'or', '\"labeled\"', 'data', 'both', 'easy', 'and', 'intuitive.', 'It', 'aims', 'to', 'be', 'the', 'fundamental', 'high-level', 'building', 'block', 'for', 'doing', 'practical,', 'real', 'world', 'data', 'analysis', 'in', 'Python.', 'Additionally,', 'it', 'has', 'the', 'broader', 'goal', 'of', 'becoming', 'the', 'most', 'powerful', 'and', 'flexible', 'open', 'source', 'data', 'analysis', '/', 'manipulation', 'tool', 'available', 'in', 'any', 'language.', 'It', 'is', 'already', 'well', 'on', 'its', 'way', 'toward', 'this', 'goal.', 'Main', 'Features', 'Here', 'are', 'just', 'a', 'few', 'of', 'the', 'things', 'that', 'pandas', 'does', 'well:', 'Easy', 'handling', 'of', 'missing', 'data', '(represented', 'as', 'NaN)', 'in', 'floating', 'point', 'as', 'well', 'as', 'non-floating', 'point', 'data', 'Size', 'mutability:', 'columns', 'can', 'be', 'inserted', 'and', 'deleted', 'from', 'DataFrame', 'and', 'higher', 'dimensional', 'objects', 'Automatic', 'and', 'explicit', 'data', 'alignment:', 'objects', 'can', 'be', 'explicitly', 'aligned', 'to', 'a', 'set', 'of', 'labels,', 'or', 'the', 'user', 'can', 'simply', 'ignore', 'the', 'labels', 'and', 'let', 'Series,', 'DataFrame,', 'etc.', 'automatically', 'align', 'the', 'data', 'for', 'you', 'in', 'computations', 'Powerful,', 'flexible', 'group', 'by', 'functionality', 'to', 'perform', 'split-apply-combine', 'operations', 'on', 'data', 'sets,', 'for', 'both', 'aggregating', 'and', 'transforming', 'data', 'Make', 'it', 'easy', 'to', 'convert', 'ragged,', 'differently-indexed', 'data', 'in', 'other', 'Python', 'and', 'NumPy', 'data', 'structures', 'into', 'DataFrame', 'objects', 'Intelligent', 'label-based', 'slicing,', 'fancy', 'indexing,', 'and', 'subsetting', 'of', 'large', 'data', 'sets', 'Intuitive', 'merging', 'and', 'joining', 'data', 'sets', 'Flexible', 'reshaping', 'and', 'pivoting', 'of', 'data', 'sets', 'Hierarchical', 'labeling', 'of', 'axes', '(possible', 'to', 'have', 'multiple', 'labels', 'per', 'tick)', 'Robust', 'IO', 'tools', 'for', 'loading', 'data', 'from', 'flat', 'files', '(CSV', 'and', 'delimited),', 'Excel', 'files,', 'databases,', 'and', 'saving/loading', 'data', 'from', 'the', 'ultrafast', 'HDF5', 'format', 'Time', 'series-specific', 'functionality:', 'date', 'range', 'generation', 'and', 'frequency', 'conversion,', 'moving', 'window', 'statistics,', 'moving', 'window', 'linear', 'regressions,', 'date', 'shifting', 'and', 'lagging,', 'etc.', 'Where', 'to', 'get', 'it', 'The', 'source', 'code', 'is', 'currently', 'hosted', 'on', 'GitHub', 'at:', 'https://github.com/pandas-dev/pandas', 'Binary', 'installers', 'for', 'the', 'latest', 'released', 'version', 'are', 'available', 'at', 'the', 'Python', 'package', 'index', 'and', 'on', 'conda.', '#', 'conda', 'conda', 'install', 'pandas', '#', 'or', 'PyPI', 'pip', 'install', 'pandas', 'Dependencies', 'NumPy:', '1.9.0', 'or', 'higher', 'python-dateutil:', '2.5.0', 'or', 'higher', 'pytz:', '2011k', 'or', 'higher', 'See', 'the', 'full', 'installation', 'instructions', 'for', 'recommended', 'and', 'optional', 'dependencies.', 'Installation', 'from', 'sources', 'To', 'install', 'pandas', 'from', 'source', 'you', 'need', 'Cython', 'in', 'addition', 'to', 'the', 'normal', 'dependencies', 'above.', 'Cython', 'can', 'be', 'installed', 'from', 'pypi:', 'pip', 'install', 'cython', 'In', 'the', 'pandas', 'directory', '(same', 'one', 'where', 'you', 'found', 'this', 'file', 'after', 'cloning', 'the', 'git', 'repo),', 'execute:', 'python', 'setup.py', 'install', 'or', 'for', 'installing', 'in', 'development', 'mode:', 'python', 'setup.py', 'develop', 'Alternatively,', 'you', 'can', 'use', 'pip', 'if', 'you', 'want', 'all', 'the', 'dependencies', 'pulled', 'in', 'automatically', '(the', '-e', 'option', 'is', 'for', 'installing', 'it', 'in', 'development', 'mode):', 'pip', 'install', '-e', '.', 'See', 'the', 'full', 'instructions', 'for', 'installing', 'from', 'source.', 'License', 'BSD', '3', 'Documentation', 'The', 'official', 'documentation', 'is', 'hosted', 'on', 'PyData.org:', 'https://pandas.pydata.org/pandas-docs/stable', 'Background', 'Work', 'on', 'pandas', 'started', 'at', 'AQR', '(a', 'quantitative', 'hedge', 'fund)', 'in', '2008', 'and', 'has', 'been', 'under', 'active', 'development', 'since', 'then.', 'Getting', 'Help', 'For', 'usage', 'questions,', 'the', 'best', 'place', 'to', 'go', 'to', 'is', 'StackOverflow.', 'Further,', 'general', 'questions', 'and', 'discussions', 'can', 'also', 'take', 'place', 'on', 'the', 'pydata', 'mailing', 'list.', 'Discussion', 'and', 'Development', 'Most', 'development', 'discussion', 'is', 'taking', 'place', 'on', 'github', 'in', 'this', 'repo.', 'Further,', 'the', 'pandas-dev', 'mailing', 'list', 'can', 'also', 'be', 'used', 'for', 'specialized', 'discussions', 'or', 'design', 'issues,', 'and', 'a', 'Gitter', 'channel', 'is', 'available', 'for', 'quick', 'development', 'related', 'questions.', 'Contributing', 'to', 'pandas', 'Open', 'Source', 'Helpers', 'All', 'contributions,', 'bug', 'reports,', 'bug', 'fixes,', 'documentation', 'improvements,', 'enhancements', 'and', 'ideas', 'are', 'welcome.', 'A', 'detailed', 'overview', 'on', 'how', 'to', 'contribute', 'can', 'be', 'found', 'in', 'the', 'contributing', 'guide.', 'If', 'you', 'are', 'simply', 'looking', 'to', 'start', 'working', 'with', 'the', 'pandas', 'codebase,', 'navigate', 'to', 'the', 'GitHub', '“issues”', 'tab', 'and', 'start', 'looking', 'through', 'interesting', 'issues.', 'There', 'are', 'a', 'number', 'of', 'issues', 'listed', 'under', 'Docs', 'and', 'good', 'first', 'issue', 'where', 'you', 'could', 'start', 'out.', 'You', 'can', 'also', 'triage', 'issues', 'which', 'may', 'include', 'reproducing', 'bug', 'reports,', 'or', 'asking', 'for', 'vital', 'information', 'such', 'as', 'version', 'numbers', 'or', 'reproduction', 'instructions.', 'If', 'you', 'would', 'like', 'to', 'start', 'triaging', 'issues,', 'one', 'easy', 'way', 'to', 'get', 'started', 'is', 'to', 'subscribe', 'to', 'pandas', 'on', 'CodeTriage.', 'Or', 'maybe', 'through', 'using', 'pandas', 'you', 'have', 'an', 'idea', 'of', 'your', 'own', 'or', 'are', 'looking', 'for', 'something', 'in', 'the', 'documentation', 'and', 'thinking', '‘this', 'can', 'be', 'improved’...you', 'can', 'do', 'something', 'about', 'it!', 'Feel', 'free', 'to', 'ask', 'questions', 'on', 'the', 'mailing', 'list', 'or', 'on', 'Gitter.']\n"
     ]
    }
   ],
   "source": [
    "words=[]\n",
    "with open('readme_pandas.txt','r') as fp:\n",
    "    words=fp.read().split()\n",
    "print(words)"
   ]
  },
  {
   "cell_type": "code",
   "execution_count": 24,
   "metadata": {
    "ExecuteTime": {
     "end_time": "2018-08-13T06:51:11.236818Z",
     "start_time": "2018-08-13T06:51:11.230881Z"
    }
   },
   "outputs": [],
   "source": [
    "count_words = Counter(words)"
   ]
  },
  {
   "cell_type": "code",
   "execution_count": 26,
   "metadata": {
    "ExecuteTime": {
     "end_time": "2018-08-13T06:52:46.543606Z",
     "start_time": "2018-08-13T06:52:46.541201Z"
    }
   },
   "outputs": [],
   "source": [
    "freq_ten_words = count_words.most_common(10)"
   ]
  },
  {
   "cell_type": "code",
   "execution_count": 27,
   "metadata": {
    "ExecuteTime": {
     "end_time": "2018-08-13T06:52:54.793292Z",
     "start_time": "2018-08-13T06:52:54.786703Z"
    }
   },
   "outputs": [
    {
     "data": {
      "text/plain": [
       "[('and', 26),\n",
       " ('the', 24),\n",
       " ('to', 19),\n",
       " ('data', 17),\n",
       " ('for', 13),\n",
       " ('in', 13),\n",
       " ('or', 12),\n",
       " ('on', 12),\n",
       " ('pandas', 11),\n",
       " ('can', 11)]"
      ]
     },
     "execution_count": 27,
     "metadata": {},
     "output_type": "execute_result"
    }
   ],
   "source": [
    "freq_ten_words"
   ]
  },
  {
   "cell_type": "code",
   "execution_count": 30,
   "metadata": {
    "ExecuteTime": {
     "end_time": "2018-08-13T07:52:17.281394Z",
     "start_time": "2018-08-13T07:52:17.125001Z"
    }
   },
   "outputs": [
    {
     "data": {
      "text/plain": [
       "<matplotlib.axes._subplots.AxesSubplot at 0x7ff65bea7780>"
      ]
     },
     "execution_count": 30,
     "metadata": {},
     "output_type": "execute_result"
    },
    {
     "data": {
      "image/png": "[encoded data removed]",
      "text/plain": [
       "<Figure size 432x288 with 1 Axes>"
      ]
     },
     "metadata": {},
     "output_type": "display_data"
    }
   ],
   "source": [
    "sns.barplot(x=[i[0] for i in freq_ten_words ], y= [i[1] for i in freq_ten_words])"
   ]
  },
  {
   "cell_type": "code",
   "execution_count": 33,
   "metadata": {
    "ExecuteTime": {
     "end_time": "2018-08-13T07:56:00.261263Z",
     "start_time": "2018-08-13T07:56:00.254750Z"
    }
   },
   "outputs": [
    {
     "data": {
      "text/plain": [
       "[1, 4, 9, 16, 25]"
      ]
     },
     "execution_count": 33,
     "metadata": {},
     "output_type": "execute_result"
    }
   ],
   "source": [
    "items = [1, 2, 3, 4, 5]\n",
    "squared = list(map(lambda x: x**2, items))\n",
    "squared"
   ]
  },
  {
   "cell_type": "code",
   "execution_count": 45,
   "metadata": {
    "ExecuteTime": {
     "end_time": "2018-08-13T08:33:14.738151Z",
     "start_time": "2018-08-13T08:33:14.733711Z"
    }
   },
   "outputs": [],
   "source": [
    "def sumfc():  \n",
    "    list(filter(lambda x: 100*x[0]+10*x[1]+x[2]==x[3],\n",
    "            map(lambda x: (x[0],x[1],x[2],fac(x[0])+fac(x[1])+fac(x[2])),[(x,y,z) \n",
    "            for x in range(1,10) \n",
    "            for y in range(10) \n",
    "            for z in range(10)])))\n"
   ]
  },
  {
   "cell_type": "code",
   "execution_count": 47,
   "metadata": {
    "ExecuteTime": {
     "end_time": "2018-08-13T08:34:07.650455Z",
     "start_time": "2018-08-13T08:34:07.141262Z"
    }
   },
   "outputs": [],
   "source": [
    "for i in range(1000):\n",
    "    sumfc()"
   ]
  }
 ],
 "metadata": {
  "kernelspec": {
   "display_name": "Python 3",
   "language": "python",
   "name": "python3"
  },
  "language_info": {
   "codemirror_mode": {
    "name": "ipython",
    "version": 3
   },
   "file_extension": ".py",
   "mimetype": "text/x-python",
   "name": "python",
   "nbconvert_exporter": "python",
   "pygments_lexer": "ipython3",
   "version": "3.6.5"
  }
 },
 "nbformat": 4,
 "nbformat_minor": 2
}
