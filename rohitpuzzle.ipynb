{
 "cells": [
  {
   "cell_type": "code",
   "execution_count": 1,
   "metadata": {
    "ExecuteTime": {
     "end_time": "2018-08-13T04:50:31.158352Z",
     "start_time": "2018-08-13T04:50:31.155091Z"
    }
   },
   "outputs": [],
   "source": [
    "from math import factorial as fac\n"
   ]
  },
  {
   "cell_type": "code",
   "execution_count": 21,
   "metadata": {
    "ExecuteTime": {
     "end_time": "2018-08-13T04:57:03.919205Z",
     "start_time": "2018-08-13T04:57:03.915865Z"
    }
   },
   "outputs": [],
   "source": [
    "def digifact():\n",
    "    l=[]\n",
    "    for x in range(1,10):\n",
    "        for y in range(10):\n",
    "            for z in range(10):\n",
    "                if 100*x +10*y + z == fac(x) + fac(y) + fac(z):\n",
    "                    l.append((x,y,z))\n",
    "    return l"
   ]
  },
  {
   "cell_type": "code",
   "execution_count": 33,
   "metadata": {
    "ExecuteTime": {
     "end_time": "2018-08-13T05:06:52.776912Z",
     "start_time": "2018-08-13T05:06:52.773723Z"
    }
   },
   "outputs": [],
   "source": [
    "def sumfact1():\n",
    "    return [(x,y,z) for x in range(1,10) for y in range(10) for z in range(10) if int(str(x)+str(y)+str(z)) == fac(x) + fac(y) + fac(z)]"
   ]
  },
  {
   "cell_type": "code",
   "execution_count": 34,
   "metadata": {
    "ExecuteTime": {
     "end_time": "2018-08-13T05:06:54.325313Z",
     "start_time": "2018-08-13T05:06:54.322749Z"
    }
   },
   "outputs": [],
   "source": [
    "def sumfact():\n",
    "    return [(x,y,z) for x in range(1,10) for y in range(10) for z in range(10) if 100*x + 10*y + z == fac(x) + fac(y) + fac(z)]"
   ]
  },
  {
   "cell_type": "code",
   "execution_count": 35,
   "metadata": {
    "ExecuteTime": {
     "end_time": "2018-08-13T05:06:59.647521Z",
     "start_time": "2018-08-13T05:06:59.416461Z"
    }
   },
   "outputs": [],
   "source": [
    "for x in range(1000):\n",
    "    sumfact()"
   ]
  },
  {
   "cell_type": "code",
   "execution_count": 36,
   "metadata": {
    "ExecuteTime": {
     "end_time": "2018-08-13T05:07:01.668435Z",
     "start_time": "2018-08-13T05:07:01.430854Z"
    }
   },
   "outputs": [],
   "source": [
    "for x in range(1000):\n",
    "    digifact()"
   ]
  },
  {
   "cell_type": "code",
   "execution_count": 37,
   "metadata": {
    "ExecuteTime": {
     "end_time": "2018-08-13T05:07:04.428085Z",
     "start_time": "2018-08-13T05:07:03.746445Z"
    }
   },
   "outputs": [],
   "source": [
    "for x in range(1000):\n",
    "    sumfact1()"
   ]
  }
 ],
 "metadata": {
  "kernelspec": {
   "display_name": "Python 3",
   "language": "python",
   "name": "python3"
  },
  "language_info": {
   "codemirror_mode": {
    "name": "ipython",
    "version": 3
   },
   "file_extension": ".py",
   "mimetype": "text/x-python",
   "name": "python",
   "nbconvert_exporter": "python",
   "pygments_lexer": "ipython3",
   "version": "3.6.5"
  }
 },
 "nbformat": 4,
 "nbformat_minor": 2
}
