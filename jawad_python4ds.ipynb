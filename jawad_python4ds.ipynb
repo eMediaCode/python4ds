{
 "cells": [
  {
   "cell_type": "markdown",
   "metadata": {},
   "source": [
    "# Puzzle\n",
    "\n",
    "Find all 3-digit numbers so that the number is equal to sum of factorial of its digits"
   ]
  },
  {
   "cell_type": "markdown",
   "metadata": {},
   "source": [
    "## Solution 1"
   ]
  },
  {
   "cell_type": "code",
   "execution_count": 86,
   "metadata": {
    "ExecuteTime": {
     "end_time": "2018-08-13T07:55:38.780802Z",
     "start_time": "2018-08-13T07:55:38.777220Z"
    }
   },
   "outputs": [],
   "source": [
    "from math import factorial as fact"
   ]
  },
  {
   "cell_type": "code",
   "execution_count": 3,
   "metadata": {
    "ExecuteTime": {
     "end_time": "2018-08-13T04:15:06.960429Z",
     "start_time": "2018-08-13T04:15:06.950701Z"
    }
   },
   "outputs": [],
   "source": [
    "def is_candidate(number):\n",
    "    number = str(number)\n",
    "    fact_sum = 0\n",
    "    for digit in number:\n",
    "        fact_sum += fact(int(digit))\n",
    "    if fact_sum == int(number):\n",
    "        return True\n",
    "    else:\n",
    "        return False"
   ]
  },
  {
   "cell_type": "code",
   "execution_count": 76,
   "metadata": {
    "ExecuteTime": {
     "end_time": "2018-08-13T05:09:36.437123Z",
     "start_time": "2018-08-13T05:09:36.421727Z"
    }
   },
   "outputs": [
    {
     "data": {
      "text/plain": [
       "[145]"
      ]
     },
     "execution_count": 76,
     "metadata": {},
     "output_type": "execute_result"
    }
   ],
   "source": [
    "def solution_1():\n",
    "    final_list = []\n",
    "    for number in range(100, 1000):\n",
    "        if is_candidate(number):\n",
    "            final_list.append(number)\n",
    "    return final_list\n",
    "solution_1()"
   ]
  },
  {
   "cell_type": "code",
   "execution_count": 24,
   "metadata": {
    "ExecuteTime": {
     "end_time": "2018-08-13T04:32:53.839581Z",
     "start_time": "2018-08-13T04:32:53.831868Z"
    }
   },
   "outputs": [
    {
     "data": {
      "text/plain": [
       "40585"
      ]
     },
     "execution_count": 24,
     "metadata": {},
     "output_type": "execute_result"
    }
   ],
   "source": [
    "fact(4) + fact(8) + fact(5) + fact(5) + fact(0)"
   ]
  },
  {
   "cell_type": "markdown",
   "metadata": {},
   "source": [
    "## Solution 2"
   ]
  },
  {
   "cell_type": "code",
   "execution_count": 88,
   "metadata": {
    "ExecuteTime": {
     "end_time": "2018-08-13T07:55:53.950467Z",
     "start_time": "2018-08-13T07:55:53.943447Z"
    }
   },
   "outputs": [
    {
     "data": {
      "text/plain": [
       "[145]"
      ]
     },
     "execution_count": 88,
     "metadata": {},
     "output_type": "execute_result"
    }
   ],
   "source": [
    "[number for number in range(100, 1000) if (number == sum([fact(int(digit)) for digit in str(number)]))]"
   ]
  },
  {
   "cell_type": "code",
   "execution_count": 118,
   "metadata": {
    "ExecuteTime": {
     "end_time": "2018-08-13T08:15:20.165055Z",
     "start_time": "2018-08-13T08:15:20.152053Z"
    }
   },
   "outputs": [
    {
     "data": {
      "text/plain": [
       "[145]"
      ]
     },
     "execution_count": 118,
     "metadata": {},
     "output_type": "execute_result"
    }
   ],
   "source": [
    "# from functools import filter\n",
    "\n",
    "list(filter((lambda number: (number == sum(map(fact, map(int, str(number)))))), list(range(100, 1000))))"
   ]
  },
  {
   "cell_type": "code",
   "execution_count": 121,
   "metadata": {
    "ExecuteTime": {
     "end_time": "2018-08-13T08:16:06.220237Z",
     "start_time": "2018-08-13T08:16:06.211371Z"
    }
   },
   "outputs": [
    {
     "data": {
      "text/plain": [
       "[(1, 4, 5)]"
      ]
     },
     "execution_count": 121,
     "metadata": {},
     "output_type": "execute_result"
    }
   ],
   "source": [
    "# (100*num[0]+10*num[1]+num[2] == map(fact, [num[0],num[1],num[2]]))\n",
    "list(filter((lambda num: (100*num[0]+10*num[1]+num[2] == sum(list(map(fact, [num[0],num[1],num[2]]))))), \\\n",
    "            [(x,y,z) for x in range(1, 10) for y in range(10) for z in range(10)]))"
   ]
  },
  {
   "cell_type": "code",
   "execution_count": 74,
   "metadata": {
    "ExecuteTime": {
     "end_time": "2018-08-13T04:54:57.013741Z",
     "start_time": "2018-08-13T04:54:56.999617Z"
    }
   },
   "outputs": [
    {
     "data": {
      "text/plain": [
       "[145]"
      ]
     },
     "execution_count": 74,
     "metadata": {},
     "output_type": "execute_result"
    }
   ],
   "source": [
    "def solution_2():\n",
    "    return [number for number in range(100, 1000) if (number == sum([fact(int(digit)) for digit in str(number)]))]\n",
    "solution_2()"
   ]
  },
  {
   "cell_type": "code",
   "execution_count": null,
   "metadata": {
    "ExecuteTime": {
     "end_time": "2018-08-13T07:57:15.568745Z",
     "start_time": "2018-08-13T07:57:15.557308Z"
    }
   },
   "outputs": [],
   "source": []
  },
  {
   "cell_type": "code",
   "execution_count": null,
   "metadata": {},
   "outputs": [],
   "source": []
  },
  {
   "cell_type": "code",
   "execution_count": 69,
   "metadata": {
    "ExecuteTime": {
     "end_time": "2018-08-13T04:51:03.448002Z",
     "start_time": "2018-08-13T04:51:02.206024Z"
    }
   },
   "outputs": [],
   "source": [
    "for _ in range(1000):\n",
    "    solution_1()"
   ]
  },
  {
   "cell_type": "code",
   "execution_count": 68,
   "metadata": {
    "ExecuteTime": {
     "end_time": "2018-08-13T04:51:01.364362Z",
     "start_time": "2018-08-13T04:51:00.184124Z"
    }
   },
   "outputs": [],
   "source": [
    "for _ in range(1000):\n",
    "    solution_2()"
   ]
  },
  {
   "cell_type": "code",
   "execution_count": null,
   "metadata": {},
   "outputs": [],
   "source": []
  },
  {
   "cell_type": "code",
   "execution_count": null,
   "metadata": {},
   "outputs": [],
   "source": []
  },
  {
   "cell_type": "code",
   "execution_count": 3,
   "metadata": {
    "ExecuteTime": {
     "end_time": "2018-08-13T06:18:58.169852Z",
     "start_time": "2018-08-13T06:18:58.160901Z"
    }
   },
   "outputs": [
    {
     "name": "stdout",
     "output_type": "stream",
     "text": [
      "0 hello\n",
      "1 world\n",
      "2 there\n"
     ]
    }
   ],
   "source": [
    "docs = [\"hello\", \"world\", \"there\"]\n",
    "for idx, x in enumerate(docs):\n",
    "    print(idx, x)"
   ]
  },
  {
   "cell_type": "code",
   "execution_count": null,
   "metadata": {
    "ExecuteTime": {
     "end_time": "2018-08-13T06:17:43.741369Z",
     "start_time": "2018-08-13T06:17:43.720252Z"
    }
   },
   "outputs": [],
   "source": []
  },
  {
   "cell_type": "markdown",
   "metadata": {
    "ExecuteTime": {
     "end_time": "2018-08-13T06:26:23.521074Z",
     "start_time": "2018-08-13T06:26:23.518718Z"
    }
   },
   "source": [
    "# Plot a histogram "
   ]
  },
  {
   "cell_type": "code",
   "execution_count": 66,
   "metadata": {
    "ExecuteTime": {
     "end_time": "2018-08-13T06:56:59.316306Z",
     "start_time": "2018-08-13T06:56:59.149109Z"
    }
   },
   "outputs": [
    {
     "data": {
      "text/plain": [
       "<matplotlib.axes._subplots.AxesSubplot at 0x7f4bb7bad860>"
      ]
     },
     "execution_count": 66,
     "metadata": {},
     "output_type": "execute_result"
    },
    {
     "data": {
      "image/png": "[encoded data removed]",
      "text/plain": [
       "<Figure size 432x288 with 1 Axes>"
      ]
     },
     "metadata": {},
     "output_type": "display_data"
    }
   ],
   "source": [
    "import seaborn as sns\n",
    "from collections import Counter\n",
    "\n",
    "count_dict = Counter()\n",
    "with open('./readme_pandas.txt', 'r') as fp:\n",
    "    words = fp.read().split()\n",
    "    for word in words:\n",
    "        count_dict[word] += 1\n",
    "    \n",
    "frequent_words = count_dict.most_common(5)\n",
    "counts = [i[1] for i in frequent_words]\n",
    "labels = [i[0] for i in frequent_words]\n",
    "\n",
    "sns.barplot(x=labels, y=counts)\n",
    "# for word in "
   ]
  },
  {
   "cell_type": "code",
   "execution_count": 62,
   "metadata": {
    "ExecuteTime": {
     "end_time": "2018-08-13T06:53:16.239055Z",
     "start_time": "2018-08-13T06:53:16.233992Z"
    }
   },
   "outputs": [
    {
     "data": {
      "text/plain": [
       "['and', 'the', 'to', 'data']"
      ]
     },
     "execution_count": 62,
     "metadata": {},
     "output_type": "execute_result"
    }
   ],
   "source": [
    "[x[0] for x in frequent_words]"
   ]
  },
  {
   "cell_type": "code",
   "execution_count": null,
   "metadata": {},
   "outputs": [],
   "source": [
    "x = [1, 2]"
   ]
  },
  {
   "cell_type": "code",
   "execution_count": 77,
   "metadata": {
    "ExecuteTime": {
     "end_time": "2018-08-13T07:35:39.853327Z",
     "start_time": "2018-08-13T07:35:39.845508Z"
    }
   },
   "outputs": [
    {
     "data": {
      "text/plain": [
       "(94879947143712, 139964128363216, 139964324605432, 139964324017184)"
      ]
     },
     "execution_count": 77,
     "metadata": {},
     "output_type": "execute_result"
    }
   ],
   "source": [
    "id(1), id(x), id(x[0]), id(x[1])"
   ]
  },
  {
   "cell_type": "code",
   "execution_count": null,
   "metadata": {},
   "outputs": [],
   "source": []
  },
  {
   "cell_type": "code",
   "execution_count": null,
   "metadata": {},
   "outputs": [],
   "source": []
  },
  {
   "cell_type": "code",
   "execution_count": 127,
   "metadata": {
    "ExecuteTime": {
     "end_time": "2018-08-13T08:23:10.777918Z",
     "start_time": "2018-08-13T08:23:10.774898Z"
    }
   },
   "outputs": [],
   "source": [
    "x = 1\n",
    "y = 1\n",
    "z = [1]"
   ]
  },
  {
   "cell_type": "code",
   "execution_count": 128,
   "metadata": {
    "ExecuteTime": {
     "end_time": "2018-08-13T08:23:11.877113Z",
     "start_time": "2018-08-13T08:23:11.872289Z"
    }
   },
   "outputs": [
    {
     "data": {
      "text/plain": [
       "(94879947143712, 94879947143712, 94879947143712, 94879947143712)"
      ]
     },
     "execution_count": 128,
     "metadata": {},
     "output_type": "execute_result"
    }
   ],
   "source": [
    "id(x), id(y), id(1), id(z[0])"
   ]
  },
  {
   "cell_type": "code",
   "execution_count": null,
   "metadata": {},
   "outputs": [],
   "source": []
  }
 ],
 "metadata": {
  "kernelspec": {
   "display_name": "Python 3",
   "language": "python",
   "name": "python3"
  },
  "language_info": {
   "codemirror_mode": {
    "name": "ipython",
    "version": 3
   },
   "file_extension": ".py",
   "mimetype": "text/x-python",
   "name": "python",
   "nbconvert_exporter": "python",
   "pygments_lexer": "ipython3",
   "version": "3.6.5"
  }
 },
 "nbformat": 4,
 "nbformat_minor": 2
}
