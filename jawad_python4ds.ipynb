{
 "cells": [
  {
   "cell_type": "markdown",
   "metadata": {},
   "source": [
    "# Puzzle\n",
    "\n",
    "Find all 3-digit numbers so that the number is equal to sum of factorial of its digits"
   ]
  },
  {
   "cell_type": "markdown",
   "metadata": {},
   "source": [
    "## Solution 1"
   ]
  },
  {
   "cell_type": "code",
   "execution_count": 1,
   "metadata": {
    "ExecuteTime": {
     "end_time": "2018-08-13T04:11:36.939178Z",
     "start_time": "2018-08-13T04:11:36.931425Z"
    }
   },
   "outputs": [],
   "source": [
    "from math import factorial as fact"
   ]
  },
  {
   "cell_type": "code",
   "execution_count": 3,
   "metadata": {
    "ExecuteTime": {
     "end_time": "2018-08-13T04:15:06.960429Z",
     "start_time": "2018-08-13T04:15:06.950701Z"
    }
   },
   "outputs": [],
   "source": [
    "def is_candidate(number):\n",
    "    number = str(number)\n",
    "    fact_sum = 0\n",
    "    for digit in number:\n",
    "        fact_sum += fact(int(digit))\n",
    "    if fact_sum == int(number):\n",
    "        return True\n",
    "    else:\n",
    "        return False"
   ]
  },
  {
   "cell_type": "code",
   "execution_count": 76,
   "metadata": {
    "ExecuteTime": {
     "end_time": "2018-08-13T05:09:36.437123Z",
     "start_time": "2018-08-13T05:09:36.421727Z"
    }
   },
   "outputs": [
    {
     "data": {
      "text/plain": [
       "[145]"
      ]
     },
     "execution_count": 76,
     "metadata": {},
     "output_type": "execute_result"
    }
   ],
   "source": [
    "def solution_1():\n",
    "    final_list = []\n",
    "    for number in range(100, 1000):\n",
    "        if is_candidate(number):\n",
    "            final_list.append(number)\n",
    "    return final_list\n",
    "solution_1()"
   ]
  },
  {
   "cell_type": "code",
   "execution_count": 24,
   "metadata": {
    "ExecuteTime": {
     "end_time": "2018-08-13T04:32:53.839581Z",
     "start_time": "2018-08-13T04:32:53.831868Z"
    }
   },
   "outputs": [
    {
     "data": {
      "text/plain": [
       "40585"
      ]
     },
     "execution_count": 24,
     "metadata": {},
     "output_type": "execute_result"
    }
   ],
   "source": [
    "fact(4) + fact(8) + fact(5) + fact(5) + fact(0)"
   ]
  },
  {
   "cell_type": "markdown",
   "metadata": {},
   "source": [
    "## Solution 2"
   ]
  },
  {
   "cell_type": "code",
   "execution_count": 72,
   "metadata": {
    "ExecuteTime": {
     "end_time": "2018-08-13T04:51:49.309135Z",
     "start_time": "2018-08-13T04:51:49.298993Z"
    }
   },
   "outputs": [
    {
     "data": {
      "text/plain": [
       "[145]"
      ]
     },
     "execution_count": 72,
     "metadata": {},
     "output_type": "execute_result"
    }
   ],
   "source": [
    "[number for number in range(100, 1000) if (number == sum([fact(int(digit)) for digit in str(number)]))]"
   ]
  },
  {
   "cell_type": "code",
   "execution_count": 74,
   "metadata": {
    "ExecuteTime": {
     "end_time": "2018-08-13T04:54:57.013741Z",
     "start_time": "2018-08-13T04:54:56.999617Z"
    }
   },
   "outputs": [
    {
     "data": {
      "text/plain": [
       "[145]"
      ]
     },
     "execution_count": 74,
     "metadata": {},
     "output_type": "execute_result"
    }
   ],
   "source": [
    "def solution_2():\n",
    "    return [number for number in range(100, 1000) if (number == sum([fact(int(digit)) for digit in str(number)]))]\n",
    "solution_2()"
   ]
  },
  {
   "cell_type": "code",
   "execution_count": null,
   "metadata": {
    "ExecuteTime": {
     "end_time": "2018-08-13T04:36:07.639986Z",
     "start_time": "2018-08-13T04:36:07.633860Z"
    }
   },
   "outputs": [],
   "source": []
  },
  {
   "cell_type": "code",
   "execution_count": null,
   "metadata": {},
   "outputs": [],
   "source": []
  },
  {
   "cell_type": "code",
   "execution_count": 69,
   "metadata": {
    "ExecuteTime": {
     "end_time": "2018-08-13T04:51:03.448002Z",
     "start_time": "2018-08-13T04:51:02.206024Z"
    }
   },
   "outputs": [],
   "source": [
    "for _ in range(1000):\n",
    "    solution_1()"
   ]
  },
  {
   "cell_type": "code",
   "execution_count": 68,
   "metadata": {
    "ExecuteTime": {
     "end_time": "2018-08-13T04:51:01.364362Z",
     "start_time": "2018-08-13T04:51:00.184124Z"
    }
   },
   "outputs": [],
   "source": [
    "for _ in range(1000):\n",
    "    solution_2()"
   ]
  },
  {
   "cell_type": "code",
   "execution_count": null,
   "metadata": {},
   "outputs": [],
   "source": []
  }
 ],
 "metadata": {
  "kernelspec": {
   "display_name": "Python 3",
   "language": "python",
   "name": "python3"
  },
  "language_info": {
   "codemirror_mode": {
    "name": "ipython",
    "version": 3
   },
   "file_extension": ".py",
   "mimetype": "text/x-python",
   "name": "python",
   "nbconvert_exporter": "python",
   "pygments_lexer": "ipython3",
   "version": "3.6.5"
  }
 },
 "nbformat": 4,
 "nbformat_minor": 2
}
