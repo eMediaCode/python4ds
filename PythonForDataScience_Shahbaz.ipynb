{
 "cells": [
  {
   "cell_type": "markdown",
   "metadata": {},
   "source": [
    "## Puzzle\n",
    "Find all 3 digit numbers that are equal to the sum of factorial of it's digits"
   ]
  },
  {
   "cell_type": "markdown",
   "metadata": {},
   "source": [
    "## Solution 1"
   ]
  },
  {
   "cell_type": "code",
   "execution_count": 16,
   "metadata": {
    "ExecuteTime": {
     "end_time": "2018-08-13T04:35:10.527900Z",
     "start_time": "2018-08-13T04:35:08.983682Z"
    }
   },
   "outputs": [],
   "source": [
    "from math import factorial as fact\n",
    "import numpy as np"
   ]
  },
  {
   "cell_type": "code",
   "execution_count": 9,
   "metadata": {
    "ExecuteTime": {
     "end_time": "2018-08-13T04:31:10.526675Z",
     "start_time": "2018-08-13T04:31:10.511978Z"
    }
   },
   "outputs": [],
   "source": [
    "def sum_of_digitfactorials(x):\n",
    "    sum=0\n",
    "    while x!=0:\n",
    "        sum += fact(x%10)\n",
    "        x //= 10\n",
    "    return sum    "
   ]
  },
  {
   "cell_type": "code",
   "execution_count": 10,
   "metadata": {
    "ExecuteTime": {
     "end_time": "2018-08-13T04:31:10.705131Z",
     "start_time": "2018-08-13T04:31:10.696312Z"
    }
   },
   "outputs": [],
   "source": [
    "def find_values():\n",
    "    valid = []\n",
    "    for i in range(100,1000):\n",
    "        if sum_of_digitfactorials(i) == i:\n",
    "            valid.append(i)\n",
    "    return valid        "
   ]
  },
  {
   "cell_type": "code",
   "execution_count": 11,
   "metadata": {
    "ExecuteTime": {
     "end_time": "2018-08-13T04:31:10.924724Z",
     "start_time": "2018-08-13T04:31:10.910929Z"
    }
   },
   "outputs": [
    {
     "data": {
      "text/plain": [
       "[145]"
      ]
     },
     "execution_count": 11,
     "metadata": {},
     "output_type": "execute_result"
    }
   ],
   "source": [
    "find_values()"
   ]
  },
  {
   "cell_type": "markdown",
   "metadata": {},
   "source": [
    "## Solution 2"
   ]
  },
  {
   "cell_type": "code",
   "execution_count": 21,
   "metadata": {
    "ExecuteTime": {
     "end_time": "2018-08-13T04:35:39.065998Z",
     "start_time": "2018-08-13T04:35:39.053501Z"
    }
   },
   "outputs": [],
   "source": [
    "def find_values_list_comprehension():\n",
    "    return [i for i in range(100,1000) if  i == sum([fact(int(j)) for j in str(i)])]"
   ]
  },
  {
   "cell_type": "code",
   "execution_count": 22,
   "metadata": {
    "ExecuteTime": {
     "end_time": "2018-08-13T04:35:40.711051Z",
     "start_time": "2018-08-13T04:35:40.699631Z"
    }
   },
   "outputs": [
    {
     "data": {
      "text/plain": [
       "[145]"
      ]
     },
     "execution_count": 22,
     "metadata": {},
     "output_type": "execute_result"
    }
   ],
   "source": [
    "find_values_list_comprehension()"
   ]
  },
  {
   "cell_type": "markdown",
   "metadata": {},
   "source": [
    "## Benchmark"
   ]
  },
  {
   "cell_type": "code",
   "execution_count": 23,
   "metadata": {
    "ExecuteTime": {
     "end_time": "2018-08-13T04:35:41.196942Z",
     "start_time": "2018-08-13T04:35:41.191424Z"
    }
   },
   "outputs": [],
   "source": [
    "import timeit"
   ]
  },
  {
   "cell_type": "code",
   "execution_count": 24,
   "metadata": {
    "ExecuteTime": {
     "end_time": "2018-08-13T04:35:44.535116Z",
     "start_time": "2018-08-13T04:35:41.503652Z"
    }
   },
   "outputs": [
    {
     "name": "stdout",
     "output_type": "stream",
     "text": [
      "0.920849444999476\n",
      "2.10388057199998\n"
     ]
    }
   ],
   "source": [
    "print(timeit.timeit(stmt=find_values, number=1000))\n",
    "print(timeit.timeit(stmt=find_values_list_comprehension, number=1000))"
   ]
  },
  {
   "cell_type": "markdown",
   "metadata": {},
   "source": [
    "# Generators and Iterators"
   ]
  },
  {
   "cell_type": "code",
   "execution_count": null,
   "metadata": {},
   "outputs": [],
   "source": []
  }
 ],
 "metadata": {
  "kernelspec": {
   "display_name": "Python 3",
   "language": "python",
   "name": "python3"
  },
  "language_info": {
   "codemirror_mode": {
    "name": "ipython",
    "version": 3
   },
   "file_extension": ".py",
   "mimetype": "text/x-python",
   "name": "python",
   "nbconvert_exporter": "python",
   "pygments_lexer": "ipython3",
   "version": "3.6.0"
  }
 },
 "nbformat": 4,
 "nbformat_minor": 2
}
