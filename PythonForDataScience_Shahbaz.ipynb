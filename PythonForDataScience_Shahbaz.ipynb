{
 "cells": [
  {
   "cell_type": "markdown",
   "metadata": {},
   "source": [
    "## Puzzle\n",
    "Find all 3 digit numbers that are equal to the sum of factorial of it's digits"
   ]
  },
  {
   "cell_type": "markdown",
   "metadata": {},
   "source": [
    "## Solution 1"
   ]
  },
  {
   "cell_type": "code",
   "execution_count": 1,
   "metadata": {
    "ExecuteTime": {
     "end_time": "2018-08-14T11:31:02.839186Z",
     "start_time": "2018-08-14T11:30:59.283226Z"
    }
   },
   "outputs": [],
   "source": [
    "%matplotlib inline\n",
    "from math import factorial as fact\n",
    "import numpy as np\n",
    "import matplotlib.pyplot as plt\n",
    "from collections import defaultdict, Counter"
   ]
  },
  {
   "cell_type": "code",
   "execution_count": 13,
   "metadata": {
    "ExecuteTime": {
     "end_time": "2018-08-13T05:28:03.774311Z",
     "start_time": "2018-08-13T05:28:03.761095Z"
    }
   },
   "outputs": [],
   "source": [
    "def sum_of_digitfactorials(x):\n",
    "    sum=0\n",
    "    while x!=0:\n",
    "        sum += fact(x%10)\n",
    "        x //= 10\n",
    "    return sum    "
   ]
  },
  {
   "cell_type": "code",
   "execution_count": 12,
   "metadata": {
    "ExecuteTime": {
     "end_time": "2018-08-13T05:28:02.604949Z",
     "start_time": "2018-08-13T05:28:02.591609Z"
    }
   },
   "outputs": [],
   "source": [
    "def find_values():\n",
    "    valid = []\n",
    "    for i in range(100,1000):\n",
    "        if sum_of_digitfactorials(i) == i:\n",
    "            valid.append(i)\n",
    "    return valid        "
   ]
  },
  {
   "cell_type": "code",
   "execution_count": 11,
   "metadata": {
    "ExecuteTime": {
     "end_time": "2018-08-13T04:31:10.924724Z",
     "start_time": "2018-08-13T04:31:10.910929Z"
    }
   },
   "outputs": [
    {
     "data": {
      "text/plain": [
       "[145]"
      ]
     },
     "execution_count": 11,
     "metadata": {},
     "output_type": "execute_result"
    }
   ],
   "source": [
    "find_values()"
   ]
  },
  {
   "cell_type": "markdown",
   "metadata": {},
   "source": [
    "## Solution 2"
   ]
  },
  {
   "cell_type": "code",
   "execution_count": 11,
   "metadata": {
    "ExecuteTime": {
     "end_time": "2018-08-13T05:28:00.012803Z",
     "start_time": "2018-08-13T05:28:00.007184Z"
    }
   },
   "outputs": [],
   "source": [
    "def find_values_list_comprehension():\n",
    "    return [i for i in range(100,1000) if  i == sum([fact(int(j)) for j in str(i)])]"
   ]
  },
  {
   "cell_type": "code",
   "execution_count": 22,
   "metadata": {
    "ExecuteTime": {
     "end_time": "2018-08-13T04:35:40.711051Z",
     "start_time": "2018-08-13T04:35:40.699631Z"
    }
   },
   "outputs": [
    {
     "data": {
      "text/plain": [
       "[145]"
      ]
     },
     "execution_count": 22,
     "metadata": {},
     "output_type": "execute_result"
    }
   ],
   "source": [
    "find_values_list_comprehension()"
   ]
  },
  {
   "cell_type": "markdown",
   "metadata": {},
   "source": [
    "## Solution 3"
   ]
  },
  {
   "cell_type": "code",
   "execution_count": 6,
   "metadata": {
    "ExecuteTime": {
     "end_time": "2018-08-13T05:27:02.127141Z",
     "start_time": "2018-08-13T05:27:02.109514Z"
    }
   },
   "outputs": [],
   "source": [
    "def solution3():\n",
    "    return [100*z + 10*y + x\n",
    "    for z in range(1,10)\n",
    "    for y in range(10)\n",
    "    for x in range(10)\n",
    "    if 100*z + 10*y + x == fact(z) + fact(y) + fact(x)]"
   ]
  },
  {
   "cell_type": "markdown",
   "metadata": {},
   "source": [
    "## Using map(), filter()"
   ]
  },
  {
   "cell_type": "code",
   "execution_count": 115,
   "metadata": {
    "ExecuteTime": {
     "end_time": "2018-08-13T08:05:05.197864Z",
     "start_time": "2018-08-13T08:05:05.183939Z"
    }
   },
   "outputs": [],
   "source": [
    "def check_sum(x):\n",
    "    if x == sum([fact(int(j)) for j in str(x)]):\n",
    "        return x"
   ]
  },
  {
   "cell_type": "code",
   "execution_count": 119,
   "metadata": {
    "ExecuteTime": {
     "end_time": "2018-08-13T08:18:22.648423Z",
     "start_time": "2018-08-13T08:18:22.644318Z"
    }
   },
   "outputs": [],
   "source": [
    "def find_using_filter():\n",
    "    return list(filter(check_sum, range(100,1000)))"
   ]
  },
  {
   "cell_type": "code",
   "execution_count": 114,
   "metadata": {
    "ExecuteTime": {
     "end_time": "2018-08-13T08:03:29.671186Z",
     "start_time": "2018-08-13T08:03:29.654256Z"
    }
   },
   "outputs": [
    {
     "data": {
      "text/plain": [
       "[145]"
      ]
     },
     "execution_count": 114,
     "metadata": {},
     "output_type": "execute_result"
    }
   ],
   "source": [
    "list(filter(lambda x: x,map(check_sum, range(100,1000))))"
   ]
  },
  {
   "cell_type": "markdown",
   "metadata": {},
   "source": [
    "## Benchmark"
   ]
  },
  {
   "cell_type": "code",
   "execution_count": 9,
   "metadata": {
    "ExecuteTime": {
     "end_time": "2018-08-13T05:27:53.850872Z",
     "start_time": "2018-08-13T05:27:53.839507Z"
    }
   },
   "outputs": [],
   "source": [
    "import timeit"
   ]
  },
  {
   "cell_type": "code",
   "execution_count": 118,
   "metadata": {
    "ExecuteTime": {
     "end_time": "2018-08-13T08:05:44.088106Z",
     "start_time": "2018-08-13T08:05:38.520118Z"
    }
   },
   "outputs": [
    {
     "name": "stdout",
     "output_type": "stream",
     "text": [
      "Solution1:  0.8971603060017515\n",
      "Solution2:  2.009863575000054\n",
      "Solution3:  0.5167423380007676\n",
      "Using filter:  2.132905741000286\n"
     ]
    }
   ],
   "source": [
    "print('Solution1: ',timeit.timeit(stmt=find_values, number=1000))\n",
    "print('Solution2: ',timeit.timeit(stmt=find_values_list_comprehension, number=1000))\n",
    "print('Solution3: ',timeit.timeit(stmt=solution3, number=1000))\n",
    "print('Using filter: ',timeit.timeit(stmt=find_using_filter, number=1000))"
   ]
  },
  {
   "cell_type": "markdown",
   "metadata": {},
   "source": [
    "# Generators and Iterators"
   ]
  },
  {
   "cell_type": "code",
   "execution_count": 23,
   "metadata": {
    "ExecuteTime": {
     "end_time": "2018-08-13T06:23:22.310550Z",
     "start_time": "2018-08-13T06:23:22.298847Z"
    }
   },
   "outputs": [],
   "source": [
    "range(100) #generator\n",
    "x = list(range(100))"
   ]
  },
  {
   "cell_type": "code",
   "execution_count": 20,
   "metadata": {
    "ExecuteTime": {
     "end_time": "2018-08-13T06:20:36.107500Z",
     "start_time": "2018-08-13T06:20:36.086741Z"
    }
   },
   "outputs": [
    {
     "name": "stdout",
     "output_type": "stream",
     "text": [
      "Item 1 : hello\n",
      "Item 2 : world\n",
      "Item 3 : there\n"
     ]
    }
   ],
   "source": [
    "docs = [\"hello\", \"world\", \"there\"]\n",
    "for i in range(len(docs)):\n",
    "    print(\"Item\", i+1, \":\",docs[i])"
   ]
  },
  {
   "cell_type": "code",
   "execution_count": 19,
   "metadata": {
    "ExecuteTime": {
     "end_time": "2018-08-13T06:20:33.712045Z",
     "start_time": "2018-08-13T06:20:33.700341Z"
    }
   },
   "outputs": [
    {
     "name": "stdout",
     "output_type": "stream",
     "text": [
      "Item 1 : hello\n",
      "Item 2 : world\n",
      "Item 3 : there\n"
     ]
    }
   ],
   "source": [
    "#Pythonic way\n",
    "for i,x in enumerate(docs):\n",
    "    print(\"Item\",i+1,\":\",x)"
   ]
  },
  {
   "cell_type": "markdown",
   "metadata": {},
   "source": [
    "# Plot a histogram of word-counts from a text file"
   ]
  },
  {
   "cell_type": "code",
   "execution_count": 2,
   "metadata": {
    "ExecuteTime": {
     "end_time": "2018-08-14T11:31:58.119233Z",
     "start_time": "2018-08-14T11:31:58.080247Z"
    }
   },
   "outputs": [],
   "source": [
    "word_counts = defaultdict(int)\n",
    "with open('readme_pandas.txt') as f1:\n",
    "    for word in f1.read().split():\n",
    "            word_counts[word] += 1"
   ]
  },
  {
   "cell_type": "code",
   "execution_count": 86,
   "metadata": {
    "ExecuteTime": {
     "end_time": "2018-08-13T06:59:05.377449Z",
     "start_time": "2018-08-13T06:59:05.364729Z"
    }
   },
   "outputs": [],
   "source": [
    "top_10_words = sorted(word_counts.items(), key = lambda x: x[1], reverse=True)[:10]"
   ]
  },
  {
   "cell_type": "code",
   "execution_count": 87,
   "metadata": {
    "ExecuteTime": {
     "end_time": "2018-08-13T06:59:05.739818Z",
     "start_time": "2018-08-13T06:59:05.732699Z"
    }
   },
   "outputs": [],
   "source": [
    "top_10_labels = [x[0] for x in top_10_words]"
   ]
  },
  {
   "cell_type": "code",
   "execution_count": 88,
   "metadata": {
    "ExecuteTime": {
     "end_time": "2018-08-13T06:59:05.966378Z",
     "start_time": "2018-08-13T06:59:05.956740Z"
    }
   },
   "outputs": [],
   "source": [
    "top_10_counts = [x[1] for x in top_10_words]"
   ]
  },
  {
   "cell_type": "code",
   "execution_count": 89,
   "metadata": {
    "ExecuteTime": {
     "end_time": "2018-08-13T06:59:06.478648Z",
     "start_time": "2018-08-13T06:59:06.168723Z"
    }
   },
   "outputs": [
    {
     "data": {
      "text/plain": [
       "<Container object of 10 artists>"
      ]
     },
     "execution_count": 89,
     "metadata": {},
     "output_type": "execute_result"
    },
    {
     "data": {
      "image/png": "[encoded data removed]",
      "text/plain": [
       "<matplotlib.figure.Figure at 0x7fb77e4d8780>"
      ]
     },
     "metadata": {},
     "output_type": "display_data"
    }
   ],
   "source": [
    "plt.bar(top_10_labels, top_10_counts)"
   ]
  },
  {
   "cell_type": "markdown",
   "metadata": {},
   "source": [
    "## Using Counter"
   ]
  },
  {
   "cell_type": "code",
   "execution_count": 96,
   "metadata": {
    "ExecuteTime": {
     "end_time": "2018-08-13T06:59:33.774821Z",
     "start_time": "2018-08-13T06:59:33.757263Z"
    }
   },
   "outputs": [
    {
     "name": "stdout",
     "output_type": "stream",
     "text": [
      "Counter({'and': 26, 'the': 24, 'to': 19, 'data': 17, 'for': 13, 'in': 13, 'or': 12, 'on': 12, 'pandas': 11, 'can': 11, 'is': 10, 'of': 9, 'you': 9, 'be': 7, 'from': 7, 'are': 6, 'install': 6, 'a': 5, 'development': 5, 'it': 4, 'as': 4, 'higher': 4, 'pip': 4, 'start': 4, 'Python': 3, 'easy': 3, 'source': 3, 'available': 3, 'this': 3, 'objects': 3, 'sets': 3, 'installing': 3, 'documentation': 3, 'place': 3, 'also': 3, 'mailing': 3, 'bug': 3, 'looking': 3, 'package': 2, 'structures': 2, 'working': 2, 'with': 2, 'both': 2, 'It': 2, 'analysis': 2, 'has': 2, 'flexible': 2, 'well': 2, 'way': 2, 'point': 2, 'DataFrame': 2, 'simply': 2, 'labels': 2, 'etc.': 2, 'automatically': 2, 'have': 2, 'date': 2, 'moving': 2, 'window': 2, 'get': 2, 'The': 2, 'hosted': 2, 'GitHub': 2, 'version': 2, 'at': 2, '#': 2, 'conda': 2, 'See': 2, 'full': 2, 'instructions': 2, 'Cython': 2, 'dependencies': 2, 'one': 2, 'where': 2, 'found': 2, 'python': 2, 'setup.py': 2, '-e': 2, 'started': 2, 'under': 2, 'Further,': 2, 'questions': 2, 'discussions': 2, 'list': 2, 'issues,': 2, 'reports,': 2, 'If': 2, 'through': 2, 'issues': 2, 'something': 2, 'What': 1, 'it?': 1, 'providing': 1, 'fast,': 1, 'flexible,': 1, 'expressive': 1, 'designed': 1, 'make': 1, '\"relational\"': 1, '\"labeled\"': 1, 'intuitive.': 1, 'aims': 1, 'fundamental': 1, 'high-level': 1, 'building': 1, 'block': 1, 'doing': 1, 'practical,': 1, 'real': 1, 'world': 1, 'Python.': 1, 'Additionally,': 1, 'broader': 1, 'goal': 1, 'becoming': 1, 'most': 1, 'powerful': 1, 'open': 1, '/': 1, 'manipulation': 1, 'tool': 1, 'any': 1, 'language.': 1, 'already': 1, 'its': 1, 'toward': 1, 'goal.': 1, 'Main': 1, 'Features': 1, 'Here': 1, 'just': 1, 'few': 1, 'things': 1, 'that': 1, 'does': 1, 'well:': 1, 'Easy': 1, 'handling': 1, 'missing': 1, '(represented': 1, 'NaN)': 1, 'floating': 1, 'non-floating': 1, 'Size': 1, 'mutability:': 1, 'columns': 1, 'inserted': 1, 'deleted': 1, 'dimensional': 1, 'Automatic': 1, 'explicit': 1, 'alignment:': 1, 'explicitly': 1, 'aligned': 1, 'set': 1, 'labels,': 1, 'user': 1, 'ignore': 1, 'let': 1, 'Series,': 1, 'DataFrame,': 1, 'align': 1, 'computations': 1, 'Powerful,': 1, 'group': 1, 'by': 1, 'functionality': 1, 'perform': 1, 'split-apply-combine': 1, 'operations': 1, 'sets,': 1, 'aggregating': 1, 'transforming': 1, 'Make': 1, 'convert': 1, 'ragged,': 1, 'differently-indexed': 1, 'other': 1, 'NumPy': 1, 'into': 1, 'Intelligent': 1, 'label-based': 1, 'slicing,': 1, 'fancy': 1, 'indexing,': 1, 'subsetting': 1, 'large': 1, 'Intuitive': 1, 'merging': 1, 'joining': 1, 'Flexible': 1, 'reshaping': 1, 'pivoting': 1, 'Hierarchical': 1, 'labeling': 1, 'axes': 1, '(possible': 1, 'multiple': 1, 'per': 1, 'tick)': 1, 'Robust': 1, 'IO': 1, 'tools': 1, 'loading': 1, 'flat': 1, 'files': 1, '(CSV': 1, 'delimited),': 1, 'Excel': 1, 'files,': 1, 'databases,': 1, 'saving/loading': 1, 'ultrafast': 1, 'HDF5': 1, 'format': 1, 'Time': 1, 'series-specific': 1, 'functionality:': 1, 'range': 1, 'generation': 1, 'frequency': 1, 'conversion,': 1, 'statistics,': 1, 'linear': 1, 'regressions,': 1, 'shifting': 1, 'lagging,': 1, 'Where': 1, 'code': 1, 'currently': 1, 'at:': 1, 'https://github.com/pandas-dev/pandas': 1, 'Binary': 1, 'installers': 1, 'latest': 1, 'released': 1, 'index': 1, 'conda.': 1, 'PyPI': 1, 'Dependencies': 1, 'NumPy:': 1, '1.9.0': 1, 'python-dateutil:': 1, '2.5.0': 1, 'pytz:': 1, '2011k': 1, 'installation': 1, 'recommended': 1, 'optional': 1, 'dependencies.': 1, 'Installation': 1, 'sources': 1, 'To': 1, 'need': 1, 'addition': 1, 'normal': 1, 'above.': 1, 'installed': 1, 'pypi:': 1, 'cython': 1, 'In': 1, 'directory': 1, '(same': 1, 'file': 1, 'after': 1, 'cloning': 1, 'git': 1, 'repo),': 1, 'execute:': 1, 'mode:': 1, 'develop': 1, 'Alternatively,': 1, 'use': 1, 'if': 1, 'want': 1, 'all': 1, 'pulled': 1, '(the': 1, 'option': 1, 'mode):': 1, '.': 1, 'source.': 1, 'License': 1, 'BSD': 1, '3': 1, 'Documentation': 1, 'official': 1, 'PyData.org:': 1, 'https://pandas.pydata.org/pandas-docs/stable': 1, 'Background': 1, 'Work': 1, 'AQR': 1, '(a': 1, 'quantitative': 1, 'hedge': 1, 'fund)': 1, '2008': 1, 'been': 1, 'active': 1, 'since': 1, 'then.': 1, 'Getting': 1, 'Help': 1, 'For': 1, 'usage': 1, 'questions,': 1, 'best': 1, 'go': 1, 'StackOverflow.': 1, 'general': 1, 'take': 1, 'pydata': 1, 'list.': 1, 'Discussion': 1, 'Development': 1, 'Most': 1, 'discussion': 1, 'taking': 1, 'github': 1, 'repo.': 1, 'pandas-dev': 1, 'used': 1, 'specialized': 1, 'design': 1, 'Gitter': 1, 'channel': 1, 'quick': 1, 'related': 1, 'questions.': 1, 'Contributing': 1, 'Open': 1, 'Source': 1, 'Helpers': 1, 'All': 1, 'contributions,': 1, 'fixes,': 1, 'improvements,': 1, 'enhancements': 1, 'ideas': 1, 'welcome.': 1, 'A': 1, 'detailed': 1, 'overview': 1, 'how': 1, 'contribute': 1, 'contributing': 1, 'guide.': 1, 'codebase,': 1, 'navigate': 1, '“issues”': 1, 'tab': 1, 'interesting': 1, 'issues.': 1, 'There': 1, 'number': 1, 'listed': 1, 'Docs': 1, 'good': 1, 'first': 1, 'issue': 1, 'could': 1, 'out.': 1, 'You': 1, 'triage': 1, 'which': 1, 'may': 1, 'include': 1, 'reproducing': 1, 'asking': 1, 'vital': 1, 'information': 1, 'such': 1, 'numbers': 1, 'reproduction': 1, 'instructions.': 1, 'would': 1, 'like': 1, 'triaging': 1, 'subscribe': 1, 'CodeTriage.': 1, 'Or': 1, 'maybe': 1, 'using': 1, 'an': 1, 'idea': 1, 'your': 1, 'own': 1, 'thinking': 1, '‘this': 1, 'improved’...you': 1, 'do': 1, 'about': 1, 'it!': 1, 'Feel': 1, 'free': 1, 'ask': 1, 'Gitter.': 1})\n"
     ]
    }
   ],
   "source": [
    "word_counts = Counter(word_counts)\n",
    "print(word_counts)"
   ]
  },
  {
   "cell_type": "code",
   "execution_count": 4,
   "metadata": {
    "ExecuteTime": {
     "end_time": "2018-08-14T11:33:56.413402Z",
     "start_time": "2018-08-14T11:33:56.400224Z"
    }
   },
   "outputs": [],
   "source": [
    "with open('readme_pandas.txt') as f1:\n",
    "    counted = Counter(f1.read().split())"
   ]
  },
  {
   "cell_type": "code",
   "execution_count": 5,
   "metadata": {
    "ExecuteTime": {
     "end_time": "2018-08-14T11:33:56.585680Z",
     "start_time": "2018-08-14T11:33:56.578854Z"
    }
   },
   "outputs": [],
   "source": [
    "top_10_counts = counted.most_common(10)"
   ]
  },
  {
   "cell_type": "code",
   "execution_count": 94,
   "metadata": {
    "ExecuteTime": {
     "end_time": "2018-08-13T06:59:18.389483Z",
     "start_time": "2018-08-13T06:59:18.381386Z"
    }
   },
   "outputs": [],
   "source": [
    "x, y = zip(* top_10_counts)"
   ]
  },
  {
   "cell_type": "code",
   "execution_count": 95,
   "metadata": {
    "ExecuteTime": {
     "end_time": "2018-08-13T06:59:18.999335Z",
     "start_time": "2018-08-13T06:59:18.711337Z"
    }
   },
   "outputs": [
    {
     "data": {
      "text/plain": [
       "<Container object of 10 artists>"
      ]
     },
     "execution_count": 95,
     "metadata": {},
     "output_type": "execute_result"
    },
    {
     "data": {
      "image/png": "[encoded data removed]",
      "text/plain": [
       "<matplotlib.figure.Figure at 0x7fb77e44c240>"
      ]
     },
     "metadata": {},
     "output_type": "display_data"
    }
   ],
   "source": [
    "plt.bar(x, y)"
   ]
  },
  {
   "cell_type": "markdown",
   "metadata": {},
   "source": [
    "# Simple and Compund Objects"
   ]
  },
  {
   "cell_type": "markdown",
   "metadata": {},
   "source": [
    " Generally, any object that contains other objects (compund objects) is a compound object"
   ]
  },
  {
   "cell_type": "code",
   "execution_count": null,
   "metadata": {},
   "outputs": [],
   "source": []
  }
 ],
 "metadata": {
  "kernelspec": {
   "display_name": "Python 3",
   "language": "python",
   "name": "python3"
  },
  "language_info": {
   "codemirror_mode": {
    "name": "ipython",
    "version": 3
   },
   "file_extension": ".py",
   "mimetype": "text/x-python",
   "name": "python",
   "nbconvert_exporter": "python",
   "pygments_lexer": "ipython3",
   "version": "3.6.0"
  }
 },
 "nbformat": 4,
 "nbformat_minor": 2
}
