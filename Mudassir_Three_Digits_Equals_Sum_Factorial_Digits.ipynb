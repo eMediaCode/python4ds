{
 "cells": [
  {
   "cell_type": "markdown",
   "metadata": {},
   "source": [
    "# Question: Find all three digits numbers where the number is equal to the sum of the factorial of its digits"
   ]
  },
  {
   "cell_type": "markdown",
   "metadata": {},
   "source": [
    "## Solution 1"
   ]
  },
  {
   "cell_type": "code",
   "execution_count": 62,
   "metadata": {},
   "outputs": [],
   "source": [
    "from math import factorial as fact\n",
    "import numpy as np\n",
    "import timeit"
   ]
  },
  {
   "cell_type": "code",
   "execution_count": 73,
   "metadata": {},
   "outputs": [],
   "source": [
    "def get_all_digits(number):\n",
    "    all_digits = []\n",
    "    while number > 0:\n",
    "        number, digit = divmod(number, 10)\n",
    "        all_digits.append(digit)\n",
    "    return all_digits"
   ]
  },
  {
   "cell_type": "code",
   "execution_count": 87,
   "metadata": {},
   "outputs": [],
   "source": [
    "def three_digit_sum_fact():\n",
    "    all_numbers = []\n",
    "    for number in range(100, 1000):\n",
    "        digits = get_all_digits(number)\n",
    "        sum_fact = sum([fact(i) for i in digits])\n",
    "        if sum_fact == number:\n",
    "            all_numbers.append(sum_fact)\n",
    "    return all_numbers"
   ]
  },
  {
   "cell_type": "code",
   "execution_count": 88,
   "metadata": {},
   "outputs": [
    {
     "name": "stdout",
     "output_type": "stream",
     "text": [
      "1.25 ms ± 0 ns per loop (mean ± std. dev. of 1 run, 1000 loops each)\n"
     ]
    }
   ],
   "source": [
    "%timeit -n 1000 -r 1 three_digit_sum_fact()"
   ]
  },
  {
   "cell_type": "code",
   "execution_count": 89,
   "metadata": {},
   "outputs": [
    {
     "name": "stdout",
     "output_type": "stream",
     "text": [
      "1.2483460903167725\n"
     ]
    }
   ],
   "source": [
    "start_time = timeit.time.time()\n",
    "for i in range(1000):\n",
    "    three_digit_sum_fact()\n",
    "end_time = timeit.time.time()\n",
    "print(end_time - start_time)"
   ]
  },
  {
   "cell_type": "markdown",
   "metadata": {},
   "source": [
    "## Solution 2"
   ]
  },
  {
   "cell_type": "code",
   "execution_count": 91,
   "metadata": {},
   "outputs": [],
   "source": [
    "def three_digit_sum_fact():\n",
    "    return [number for number in range(100, 1000) if number == sum([fact(i) for i in [int(i) for i in str(number)]])]"
   ]
  },
  {
   "cell_type": "code",
   "execution_count": 86,
   "metadata": {},
   "outputs": [
    {
     "name": "stdout",
     "output_type": "stream",
     "text": [
      "1.51 ms ± 0 ns per loop (mean ± std. dev. of 1 run, 1000 loops each)\n"
     ]
    }
   ],
   "source": [
    "%timeit -n 1000 -r 1 three_digit_sum_fact()"
   ]
  },
  {
   "cell_type": "code",
   "execution_count": 85,
   "metadata": {},
   "outputs": [
    {
     "name": "stdout",
     "output_type": "stream",
     "text": [
      "1.510690689086914\n"
     ]
    }
   ],
   "source": [
    "start_time = timeit.time.time()\n",
    "for i in range(1000):\n",
    "    three_digit_sum_fact()\n",
    "end_time = timeit.time.time()\n",
    "print(end_time - start_time)"
   ]
  },
  {
   "cell_type": "markdown",
   "metadata": {},
   "source": [
    "## Solution 3"
   ]
  },
  {
   "cell_type": "code",
   "execution_count": 95,
   "metadata": {},
   "outputs": [],
   "source": [
    "def three_digit_sum_fact():\n",
    "    return [(x * 100 + y * 10 + z) \n",
    "            for x in range (1, 10) \n",
    "            for y in range(10)\n",
    "            for z in range(10) \n",
    "            if (x * 100 + y * 10 + z) == fact(x) + fact(y) + fact(z)]"
   ]
  },
  {
   "cell_type": "code",
   "execution_count": 96,
   "metadata": {},
   "outputs": [
    {
     "name": "stdout",
     "output_type": "stream",
     "text": [
      "315 µs ± 0 ns per loop (mean ± std. dev. of 1 run, 1000 loops each)\n"
     ]
    }
   ],
   "source": [
    "%timeit -n 1000 -r 1 three_digit_sum_fact()"
   ]
  },
  {
   "cell_type": "code",
   "execution_count": 97,
   "metadata": {},
   "outputs": [
    {
     "name": "stdout",
     "output_type": "stream",
     "text": [
      "0.3145580291748047\n"
     ]
    }
   ],
   "source": [
    "start_time = timeit.time.time()\n",
    "for i in range(1000):\n",
    "    three_digit_sum_fact()\n",
    "end_time = timeit.time.time()\n",
    "print(end_time - start_time)"
   ]
  }
 ],
 "metadata": {
  "kernelspec": {
   "display_name": "Python 3",
   "language": "python",
   "name": "python3"
  },
  "language_info": {
   "codemirror_mode": {
    "name": "ipython",
    "version": 3
   },
   "file_extension": ".py",
   "mimetype": "text/x-python",
   "name": "python",
   "nbconvert_exporter": "python",
   "pygments_lexer": "ipython3",
   "version": "3.6.0"
  }
 },
 "nbformat": 4,
 "nbformat_minor": 2
}
