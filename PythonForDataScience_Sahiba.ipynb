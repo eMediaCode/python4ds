{
 "cells": [
  {
   "cell_type": "code",
   "execution_count": 38,
   "metadata": {},
   "outputs": [],
   "source": [
    "from math import factorial as fact\n",
    "import pandas as pd\n",
    "import seaborn"
   ]
  },
  {
   "cell_type": "markdown",
   "metadata": {},
   "source": [
    "### Find all 3-digit numbers so that the number is equal to the sum of the factorial of its digits"
   ]
  },
  {
   "cell_type": "code",
   "execution_count": 31,
   "metadata": {},
   "outputs": [
    {
     "name": "stdout",
     "output_type": "stream",
     "text": [
      "[145]\n",
      "Wall time: 5.01 ms\n"
     ]
    }
   ],
   "source": [
    "%%time\n",
    "\n",
    "number_list = [ x for x in range(100,1000) if x == (fact(int(str(x)[0])) + fact(int(str(x)[1])) + fact(int(str(x)[2])))]\n",
    "print(number_list)"
   ]
  },
  {
   "cell_type": "markdown",
   "metadata": {},
   "source": [
    "## Soumendra's code"
   ]
  },
  {
   "cell_type": "code",
   "execution_count": 32,
   "metadata": {},
   "outputs": [
    {
     "name": "stdout",
     "output_type": "stream",
     "text": [
      "Wall time: 1 ms\n"
     ]
    },
    {
     "data": {
      "text/plain": [
       "[(1, 4, 5)]"
      ]
     },
     "execution_count": 32,
     "metadata": {},
     "output_type": "execute_result"
    }
   ],
   "source": [
    "%%time\n",
    "\n",
    "[(z, y, x)\n",
    "    for z in range(1,10)\n",
    "    for y in range(10)\n",
    "    for x in range(10)\n",
    "    if 100*z + 10*y + x == fact(z) + fact(y) + fact(x)]"
   ]
  },
  {
   "cell_type": "markdown",
   "metadata": {},
   "source": [
    "## Plot a histogram of word-counts from a text file"
   ]
  },
  {
   "cell_type": "code",
   "execution_count": 35,
   "metadata": {},
   "outputs": [
    {
     "name": "stdout",
     "output_type": "stream",
     "text": [
      "['hello', 'world', 'there']\n"
     ]
    }
   ],
   "source": [
    "docs = [\"hello\", \"world\", \"there\"]"
   ]
  },
  {
   "cell_type": "code",
   "execution_count": 37,
   "metadata": {},
   "outputs": [
    {
     "name": "stdout",
     "output_type": "stream",
     "text": [
      "(0, 'hello')\n",
      "(1, 'world')\n",
      "(2, 'there')\n"
     ]
    }
   ],
   "source": [
    "for i in enumerate(docs):\n",
    "    print(i)"
   ]
  },
  {
   "cell_type": "code",
   "execution_count": 51,
   "metadata": {},
   "outputs": [],
   "source": [
    "with open('C:/Users/Prashant/Documents/GitHub/python4ds/readme_pandas2.txt', 'r') as file:\n",
    "    doc = file.read()"
   ]
  },
  {
   "cell_type": "code",
   "execution_count": 55,
   "metadata": {},
   "outputs": [],
   "source": [
    "text_string = doc.lower()"
   ]
  },
  {
   "cell_type": "code",
   "execution_count": 56,
   "metadata": {},
   "outputs": [
    {
     "name": "stdout",
     "output_type": "stream",
     "text": [
      "what is it?\n",
      "pandas is a python package providing fast, flexible, and expressive data structures designed to make working with \"relational\" or \"labeled\" data both easy and intuitive. it aims to be the fundamental high-level building block for doing practical, real world data analysis in python. additionally, it has the broader goal of becoming the most powerful and flexible open source data analysis / manipulation tool available in any language. it is already well on its way toward this goal.\n",
      "\n",
      "main features\n",
      "here are just a few of the things that pandas does well:\n",
      "\n",
      "easy handling of missing data (represented as nan) in floating point as well as non-floating point data\n",
      "size mutability: columns can be inserted and deleted from dataframe and higher dimensional objects\n",
      "automatic and explicit data alignment: objects can be explicitly aligned to a set of labels, or the user can simply ignore the labels and let series, dataframe, etc. automatically align the data for you in computations\n",
      "powerful, flexible group by functionality to perform split-apply-combine operations on data sets, for both aggregating and transforming data\n",
      "make it easy to convert ragged, differently-indexed data in other python and numpy data structures into dataframe objects\n",
      "intelligent label-based slicing, fancy indexing, and subsetting of large data sets\n",
      "intuitive merging and joining data sets\n",
      "flexible reshaping and pivoting of data sets\n",
      "hierarchical labeling of axes (possible to have multiple labels per tick)\n",
      "robust io tools for loading data from flat files (csv and delimited), excel files, databases, and saving/loading data from the ultrafast hdf5 format\n",
      "time series-specific functionality: date range generation and frequency conversion, moving window statistics, moving window linear regressions, date shifting and lagging, etc.\n",
      "where to get it\n",
      "the source code is currently hosted on github at: https://github.com/pandas-dev/pandas\n",
      "\n",
      "binary installers for the latest released version are available at the python package index and on conda.\n",
      "\n",
      "# conda\n",
      "conda install pandas\n",
      "# or pypi\n",
      "pip install pandas\n",
      "dependencies\n",
      "numpy: 1.9.0 or higher\n",
      "python-dateutil: 2.5.0 or higher\n",
      "pytz: 2011k or higher\n",
      "see the full installation instructions for recommended and optional dependencies.\n",
      "\n",
      "installation from sources\n",
      "to install pandas from source you need cython in addition to the normal dependencies above. cython can be installed from pypi:\n",
      "\n",
      "pip install cython\n",
      "in the pandas directory (same one where you found this file after cloning the git repo), execute:\n",
      "\n",
      "python setup.py install\n",
      "or for installing in development mode:\n",
      "\n",
      "python setup.py develop\n",
      "alternatively, you can use pip if you want all the dependencies pulled in automatically (the -e option is for installing it in development mode):\n",
      "\n",
      "pip install -e .\n",
      "see the full instructions for installing from source.\n",
      "\n",
      "license\n",
      "bsd 3\n",
      "\n",
      "documentation\n",
      "the official documentation is hosted on pydata.org: https://pandas.pydata.org/pandas-docs/stable\n",
      "\n",
      "background\n",
      "work on pandas started at aqr (a quantitative hedge fund) in 2008 and has been under active development since then.\n",
      "\n",
      "getting help\n",
      "for usage questions, the best place to go to is stackoverflow. further, general questions and discussions can also take place on the pydata mailing list.\n",
      "\n",
      "discussion and development\n",
      "most development discussion is taking place on github in this repo. further, the pandas-dev mailing list can also be used for specialized discussions or design issues, and a gitter channel is available for quick development related questions.\n",
      "\n",
      "contributing to pandas open source helpers\n",
      "all contributions, bug reports, bug fixes, documentation improvements, enhancements and ideas are welcome.\n",
      "\n",
      "a detailed overview on how to contribute can be found in the contributing guide.\n",
      "\n",
      "if you are simply looking to start working with the pandas codebase, navigate to the github “issues” tab and start looking through interesting issues. there are a number of issues listed under docs and good first issue where you could start out.\n",
      "\n",
      "you can also triage issues which may include reproducing bug reports, or asking for vital information such as version numbers or reproduction instructions. if you would like to start triaging issues, one easy way to get started is to subscribe to pandas on codetriage.\n",
      "\n",
      "or maybe through using pandas you have an idea of your own or are looking for something in the documentation and thinking ‘this can be improved’...you can do something about it!\n",
      "\n",
      "feel free to ask questions on the mailing list or on gitter.\n"
     ]
    }
   ],
   "source": [
    "print(text_string)"
   ]
  },
  {
   "cell_type": "code",
   "execution_count": 92,
   "metadata": {},
   "outputs": [],
   "source": [
    "wrds=[]\n",
    "wrds=text_string.split()"
   ]
  },
  {
   "cell_type": "code",
   "execution_count": 59,
   "metadata": {},
   "outputs": [],
   "source": [
    "from collections import Counter"
   ]
  },
  {
   "cell_type": "code",
   "execution_count": 93,
   "metadata": {},
   "outputs": [],
   "source": [
    "counts = Counter(wrds)\n",
    "\n",
    "top10 = counts.most_common(10)\n",
    "\n",
    "print(top10)"
   ]
  },
  {
   "cell_type": "code",
   "execution_count": 73,
   "metadata": {},
   "outputs": [
    {
     "data": {
      "text/plain": [
       "list"
      ]
     },
     "execution_count": 73,
     "metadata": {},
     "output_type": "execute_result"
    }
   ],
   "source": [
    "type(top10)"
   ]
  },
  {
   "cell_type": "code",
   "execution_count": 84,
   "metadata": {},
   "outputs": [],
   "source": [
    "x, y = zip(*top10)"
   ]
  },
  {
   "cell_type": "code",
   "execution_count": 91,
   "metadata": {},
   "outputs": [
    {
     "data": {
      "text/plain": [
       "<matplotlib.axes._subplots.AxesSubplot at 0x18958b9f7f0>"
      ]
     },
     "execution_count": 91,
     "metadata": {},
     "output_type": "execute_result"
    },
    {
     "data": {
      "image/png": "[encoded data removed]",
      "text/plain": [
       "<Figure size 432x288 with 1 Axes>"
      ]
     },
     "metadata": {},
     "output_type": "display_data"
    }
   ],
   "source": [
    "#arr = np.array(top10).astype(np.float)\n",
    "\n",
    "seaborn.barplot(list(x), list(y))"
   ]
  },
  {
   "cell_type": "markdown",
   "metadata": {},
   "source": [
    "## Lambda functions"
   ]
  },
  {
   "cell_type": "markdown",
   "metadata": {},
   "source": [
    "### Re-do Assignment 1 using map & filter"
   ]
  },
  {
   "cell_type": "code",
   "execution_count": 162,
   "metadata": {},
   "outputs": [],
   "source": [
    "def fn(x):\n",
    "    return [x == fact(int(str(x)[0])) + fact(int(str(x)[1])) + fact(int(str(x)[2])), x]\n",
    "\n",
    "def fn2(x):\n",
    "    return x[0]"
   ]
  },
  {
   "cell_type": "code",
   "execution_count": 163,
   "metadata": {},
   "outputs": [
    {
     "data": {
      "text/plain": [
       "145"
      ]
     },
     "execution_count": 163,
     "metadata": {},
     "output_type": "execute_result"
    }
   ],
   "source": [
    "(list(filter(fn2, map(fn, range(100,1000))))[0])[1]"
   ]
  }
 ],
 "metadata": {
  "kernelspec": {
   "display_name": "Python 3",
   "language": "python",
   "name": "python3"
  },
  "language_info": {
   "codemirror_mode": {
    "name": "ipython",
    "version": 3
   },
   "file_extension": ".py",
   "mimetype": "text/x-python",
   "name": "python",
   "nbconvert_exporter": "python",
   "pygments_lexer": "ipython3",
   "version": "3.6.5"
  }
 },
 "nbformat": 4,
 "nbformat_minor": 2
}
