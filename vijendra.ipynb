{
 "cells": [
  {
   "cell_type": "markdown",
   "metadata": {},
   "source": [
    "# PUZZLE\n",
    "\n",
    "## Find all 3-digits numbers so that the number is equal to the sum of the factorial of it's digits.\n"
   ]
  },
  {
   "cell_type": "code",
   "execution_count": 58,
   "metadata": {},
   "outputs": [],
   "source": [
    "from math import factorial as fact\n",
    "import seaborn as sns\n",
    "import numpy as np\n",
    "from matplotlib import pyplot as plt\n",
    "from collections import Counter    "
   ]
  },
  {
   "cell_type": "markdown",
   "metadata": {},
   "source": [
    "### Solution: 1"
   ]
  },
  {
   "cell_type": "code",
   "execution_count": 59,
   "metadata": {},
   "outputs": [
    {
     "name": "stdout",
     "output_type": "stream",
     "text": [
      "145\n"
     ]
    }
   ],
   "source": [
    "for num in range(100,1000):\n",
    "    num = str(num)\n",
    "    sum = (int(num[0])+int(num[1])*10+int(num[2])*100)-(fact(int(num[0]))+fact(int(num[1]))+fact(int(num[2])))\n",
    "    if sum == 0:\n",
    "        print(num[::-1])"
   ]
  },
  {
   "cell_type": "markdown",
   "metadata": {},
   "source": [
    "   ### Solution: 2 (use of list comprehension)"
   ]
  },
  {
   "cell_type": "code",
   "execution_count": 60,
   "metadata": {},
   "outputs": [
    {
     "name": "stdout",
     "output_type": "stream",
     "text": [
      "[145]\n"
     ]
    }
   ],
   "source": [
    "numbers = [num for num in range(100, 1000) if (np.sum([fact(int(i)) for i in str(num)]) == num)]\n",
    "print(numbers)"
   ]
  },
  {
   "cell_type": "markdown",
   "metadata": {},
   "source": [
    "### Solution : 3"
   ]
  },
  {
   "cell_type": "code",
   "execution_count": 61,
   "metadata": {},
   "outputs": [
    {
     "name": "stdout",
     "output_type": "stream",
     "text": [
      "145\n"
     ]
    }
   ],
   "source": [
    "\n",
    "ans = []\n",
    "for x in range(1,10):\n",
    "    for y in range(10):\n",
    "        for z in range(10):\n",
    "            if 100*x+10*y+z==fact(x)+fact(y)+fact(z):\n",
    "                ans.append(100*x+10*y+z)\n",
    "for i in ans:\n",
    "    print(i)"
   ]
  },
  {
   "cell_type": "markdown",
   "metadata": {},
   "source": [
    "## Print a list"
   ]
  },
  {
   "cell_type": "code",
   "execution_count": 62,
   "metadata": {},
   "outputs": [],
   "source": [
    "docs = [\"hello\",\"world\",\"there\"]"
   ]
  },
  {
   "cell_type": "code",
   "execution_count": 63,
   "metadata": {},
   "outputs": [
    {
     "name": "stdout",
     "output_type": "stream",
     "text": [
      "hello\n",
      "world\n",
      "there\n"
     ]
    }
   ],
   "source": [
    "for doc in docs:\n",
    "    print(doc)"
   ]
  },
  {
   "cell_type": "markdown",
   "metadata": {},
   "source": [
    "## Create histogram for count of words in a text file"
   ]
  },
  {
   "cell_type": "code",
   "execution_count": 64,
   "metadata": {},
   "outputs": [
    {
     "data": {
      "image/png": "[encoded data removed]",
      "text/plain": [
       "<Figure size 432x288 with 1 Axes>"
      ]
     },
     "metadata": {},
     "output_type": "display_data"
    }
   ],
   "source": [
    "with open('readme_pandas.txt',encoding=\"utf8\")as file:\n",
    "    content = file.read().split()\n",
    "    word_counts = Counter(content)\n",
    "    counts = word_counts.most_common(10)\n",
    "    key, value = zip(*counts)\n",
    "    sns.barplot(x=list(key),y=list(value))\n",
    "    plt.show()\n",
    "    \n",
    "\n",
    "            \n",
    "            \n",
    "        "
   ]
  },
  {
   "cell_type": "markdown",
   "metadata": {},
   "source": [
    "## Use of map, filter and reduce"
   ]
  },
  {
   "cell_type": "code",
   "execution_count": 65,
   "metadata": {},
   "outputs": [
    {
     "name": "stdout",
     "output_type": "stream",
     "text": [
      "['145']\n"
     ]
    }
   ],
   "source": [
    "num_list = []\n",
    "for i in range(100,1000):\n",
    "    num_list+= [i]\n",
    "num_txt = list(map(lambda x: str(x),num_list))\n",
    "num_ftr = list(filter(lambda x: int(x[2])+int(x[1])*10+int(x[0])*100==fact(int(x[2]))+fact(int(x[1]))+fact(int(x[0])), num_txt))\n",
    "print(num_ftr)\n",
    "   "
   ]
  },
  {
   "cell_type": "code",
   "execution_count": null,
   "metadata": {},
   "outputs": [],
   "source": []
  },
  {
   "cell_type": "code",
   "execution_count": null,
   "metadata": {},
   "outputs": [],
   "source": []
  }
 ],
 "metadata": {
  "kernelspec": {
   "display_name": "Python 3",
   "language": "python",
   "name": "python3"
  },
  "language_info": {
   "codemirror_mode": {
    "name": "ipython",
    "version": 3
   },
   "file_extension": ".py",
   "mimetype": "text/x-python",
   "name": "python",
   "nbconvert_exporter": "python",
   "pygments_lexer": "ipython3",
   "version": "3.6.5"
  }
 },
 "nbformat": 4,
 "nbformat_minor": 2
}
