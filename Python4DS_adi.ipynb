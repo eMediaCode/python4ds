{
 "cells": [
  {
   "cell_type": "code",
   "execution_count": 1,
   "metadata": {
    "ExecuteTime": {
     "end_time": "2018-08-13T06:14:32.063396Z",
     "start_time": "2018-08-13T06:14:32.059136Z"
    }
   },
   "outputs": [],
   "source": [
    "from math import factorial"
   ]
  },
  {
   "cell_type": "markdown",
   "metadata": {},
   "source": [
    "## PUZZLE 1\n",
    "\n",
    "**Find the number whose sum of factorial of its digits is equal to the number itself.**"
   ]
  },
  {
   "cell_type": "markdown",
   "metadata": {},
   "source": [
    "### Version 1"
   ]
  },
  {
   "cell_type": "code",
   "execution_count": 91,
   "metadata": {
    "ExecuteTime": {
     "end_time": "2018-08-13T04:59:47.884319Z",
     "start_time": "2018-08-13T04:59:47.877791Z"
    }
   },
   "outputs": [],
   "source": [
    "def three_digit(x):\n",
    "    ans = []\n",
    "    digits = [int(d) for d in str(x)]\n",
    "    fact = [factorial(x) for x in digits]\n",
    "    total = sum(fact)\n",
    "    if x == total:\n",
    "        ans.append(x)\n",
    "    else:\n",
    "        return None\n",
    "    ans = filter(None, ans)\n",
    "    return ans"
   ]
  },
  {
   "cell_type": "markdown",
   "metadata": {},
   "source": [
    "### Benchmark"
   ]
  },
  {
   "cell_type": "code",
   "execution_count": 92,
   "metadata": {
    "ExecuteTime": {
     "end_time": "2018-08-13T04:59:48.878233Z",
     "start_time": "2018-08-13T04:59:48.867262Z"
    }
   },
   "outputs": [],
   "source": [
    "updates = []\n",
    "for i in range(0, 1000):\n",
    "    updates.append(three_digit(i))"
   ]
  },
  {
   "cell_type": "markdown",
   "metadata": {},
   "source": [
    "### Version 2"
   ]
  },
  {
   "cell_type": "code",
   "execution_count": 93,
   "metadata": {
    "ExecuteTime": {
     "end_time": "2018-08-13T04:59:49.787675Z",
     "start_time": "2018-08-13T04:59:49.780139Z"
    }
   },
   "outputs": [],
   "source": [
    "def three_digit_2():\n",
    "    return [i for i in range(100, 1000) if i == sum([factorial(x) for x in [int(d) for d in str(i)]])]"
   ]
  },
  {
   "cell_type": "markdown",
   "metadata": {},
   "source": [
    "### Benchmarking"
   ]
  },
  {
   "cell_type": "code",
   "execution_count": 94,
   "metadata": {
    "ExecuteTime": {
     "end_time": "2018-08-13T04:59:53.106720Z",
     "start_time": "2018-08-13T04:59:50.786680Z"
    }
   },
   "outputs": [],
   "source": [
    "updates = []\n",
    "for i in range(0, 1000):\n",
    "    updates.append(three_digit_2())"
   ]
  },
  {
   "cell_type": "markdown",
   "metadata": {},
   "source": [
    "## PUZZLE 2\n",
    "**Plot the histogram of count of words** "
   ]
  },
  {
   "cell_type": "code",
   "execution_count": 6,
   "metadata": {
    "ExecuteTime": {
     "end_time": "2018-08-13T06:24:28.363138Z",
     "start_time": "2018-08-13T06:24:28.357635Z"
    }
   },
   "outputs": [],
   "source": [
    "from collections import Counter"
   ]
  },
  {
   "cell_type": "code",
   "execution_count": null,
   "metadata": {},
   "outputs": [],
   "source": [
    "with open('', 'r') as file:\n",
    "    content = file.read()\n",
    "    \n",
    "counter = Counter()\n",
    "for line in content.splitlines():\n",
    "    "
   ]
  }
 ],
 "metadata": {
  "hide_input": false,
  "kernelspec": {
   "display_name": "Python 3",
   "language": "python",
   "name": "python3"
  },
  "latex_envs": {
   "LaTeX_envs_menu_present": true,
   "autoclose": false,
   "autocomplete": true,
   "bibliofile": "biblio.bib",
   "cite_by": "apalike",
   "current_citInitial": 1,
   "eqLabelWithNumbers": true,
   "eqNumInitial": 1,
   "hotkeys": {
    "equation": "Ctrl-E",
    "itemize": "Ctrl-I"
   },
   "labels_anchors": false,
   "latex_user_defs": false,
   "report_style_numbering": false,
   "user_envs_cfg": false
  }
 },
 "nbformat": 4,
 "nbformat_minor": 2
}
