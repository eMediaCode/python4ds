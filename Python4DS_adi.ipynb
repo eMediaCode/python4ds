{
 "cells": [
  {
   "cell_type": "code",
   "execution_count": 1,
   "metadata": {
    "ExecuteTime": {
     "end_time": "2018-08-13T06:14:32.063396Z",
     "start_time": "2018-08-13T06:14:32.059136Z"
    }
   },
   "outputs": [],
   "source": [
    "from math import factorial"
   ]
  },
  {
   "cell_type": "markdown",
   "metadata": {},
   "source": [
    "## PUZZLE 1\n",
    "\n",
    "**Find the number whose sum of factorial of its digits is equal to the number itself.**"
   ]
  },
  {
   "cell_type": "markdown",
   "metadata": {},
   "source": [
    "### Version 1"
   ]
  },
  {
   "cell_type": "code",
   "execution_count": 91,
   "metadata": {
    "ExecuteTime": {
     "end_time": "2018-08-13T04:59:47.884319Z",
     "start_time": "2018-08-13T04:59:47.877791Z"
    }
   },
   "outputs": [],
   "source": [
    "def three_digit(x):\n",
    "    ans = []\n",
    "    digits = [int(d) for d in str(x)]\n",
    "    fact = [factorial(x) for x in digits]\n",
    "    total = sum(fact)\n",
    "    if x == total:\n",
    "        ans.append(x)\n",
    "    else:\n",
    "        return None\n",
    "    ans = filter(None, ans)\n",
    "    return ans"
   ]
  },
  {
   "cell_type": "markdown",
   "metadata": {},
   "source": [
    "### Benchmarking"
   ]
  },
  {
   "cell_type": "code",
   "execution_count": 92,
   "metadata": {
    "ExecuteTime": {
     "end_time": "2018-08-13T04:59:48.878233Z",
     "start_time": "2018-08-13T04:59:48.867262Z"
    }
   },
   "outputs": [],
   "source": [
    "updates = []\n",
    "for i in range(0, 1000):\n",
    "    updates.append(three_digit(i))"
   ]
  },
  {
   "cell_type": "markdown",
   "metadata": {},
   "source": [
    "### Version 2"
   ]
  },
  {
   "cell_type": "code",
   "execution_count": 93,
   "metadata": {
    "ExecuteTime": {
     "end_time": "2018-08-13T04:59:49.787675Z",
     "start_time": "2018-08-13T04:59:49.780139Z"
    }
   },
   "outputs": [],
   "source": [
    "def three_digit_2():\n",
    "    return [i for i in range(100, 1000) if i == sum([factorial(x) for x in [int(d) for d in str(i)]])]"
   ]
  },
  {
   "cell_type": "markdown",
   "metadata": {},
   "source": [
    "### Benchmarking"
   ]
  },
  {
   "cell_type": "code",
   "execution_count": 94,
   "metadata": {
    "ExecuteTime": {
     "end_time": "2018-08-13T04:59:53.106720Z",
     "start_time": "2018-08-13T04:59:50.786680Z"
    }
   },
   "outputs": [],
   "source": [
    "updates = []\n",
    "for i in range(0, 1000):\n",
    "    updates.append(three_digit_2())"
   ]
  },
  {
   "cell_type": "markdown",
   "metadata": {},
   "source": [
    "### Version 3"
   ]
  },
  {
   "cell_type": "code",
   "execution_count": 125,
   "metadata": {
    "ExecuteTime": {
     "end_time": "2018-08-13T08:07:36.477300Z",
     "start_time": "2018-08-13T08:07:36.471297Z"
    }
   },
   "outputs": [],
   "source": [
    "def three_digit_3(x):\n",
    "    digits = map(int, str(x))\n",
    "    fact = map(lambda y: factorial(y), digits)\n",
    "    total = sum(fact)\n",
    "    ans = filter(lambda y:y==x, [total])\n",
    "    return ans"
   ]
  },
  {
   "cell_type": "code",
   "execution_count": 126,
   "metadata": {
    "ExecuteTime": {
     "end_time": "2018-08-13T08:07:36.997423Z",
     "start_time": "2018-08-13T08:07:36.992208Z"
    }
   },
   "outputs": [
    {
     "name": "stdout",
     "output_type": "stream",
     "text": [
      "145\n"
     ]
    }
   ],
   "source": [
    "for i in three_digit_3(145):\n",
    "    print(i)"
   ]
  },
  {
   "cell_type": "markdown",
   "metadata": {},
   "source": [
    "## PUZZLE 2\n",
    "**Plot the histogram of count of words** "
   ]
  },
  {
   "cell_type": "code",
   "execution_count": 24,
   "metadata": {
    "ExecuteTime": {
     "end_time": "2018-08-13T06:33:31.827286Z",
     "start_time": "2018-08-13T06:33:28.218862Z"
    }
   },
   "outputs": [],
   "source": [
    "from collections import Counter\n",
    "import matplotlib.pyplot as plt\n",
    "import seaborn as sns\n",
    "import pandas as pd"
   ]
  },
  {
   "cell_type": "code",
   "execution_count": 41,
   "metadata": {
    "ExecuteTime": {
     "end_time": "2018-08-13T06:44:05.060972Z",
     "start_time": "2018-08-13T06:44:05.053397Z"
    }
   },
   "outputs": [],
   "source": [
    "with open('readme_pandas.txt', 'r') as file:\n",
    "    content = file.read()\n",
    "\n",
    "counter = Counter()\n",
    "counter.update(content.split())"
   ]
  },
  {
   "cell_type": "code",
   "execution_count": 88,
   "metadata": {
    "ExecuteTime": {
     "end_time": "2018-08-13T07:03:32.244513Z",
     "start_time": "2018-08-13T07:03:32.238395Z"
    }
   },
   "outputs": [],
   "source": [
    "# key, value = zip(*counter.most_common(10))"
   ]
  },
  {
   "cell_type": "code",
   "execution_count": 89,
   "metadata": {
    "ExecuteTime": {
     "end_time": "2018-08-13T07:03:34.827859Z",
     "start_time": "2018-08-13T07:03:34.821329Z"
    }
   },
   "outputs": [],
   "source": [
    "dictionary = dict(counter.most_common(10)) \n",
    "key = dictionary.keys()\n",
    "value = dictionary.values()"
   ]
  },
  {
   "cell_type": "code",
   "execution_count": 90,
   "metadata": {
    "ExecuteTime": {
     "end_time": "2018-08-13T07:03:35.398567Z",
     "start_time": "2018-08-13T07:03:35.029878Z"
    }
   },
   "outputs": [
    {
     "data": {
      "text/plain": [
       "<matplotlib.axes._subplots.AxesSubplot at 0x7f85277a9c18>"
      ]
     },
     "execution_count": 90,
     "metadata": {},
     "output_type": "execute_result"
    },
    {
     "data": {
      "image/png": "[encoded data removed]",
      "text/plain": [
       "<Figure size 432x288 with 1 Axes>"
      ]
     },
     "metadata": {},
     "output_type": "display_data"
    }
   ],
   "source": [
    "sns.barplot(x=list(key), y=list(value))"
   ]
  },
  {
   "cell_type": "code",
   "execution_count": null,
   "metadata": {},
   "outputs": [],
   "source": []
  }
 ],
 "metadata": {
  "hide_input": false,
  "kernelspec": {
   "display_name": "Python 3",
   "language": "python",
   "name": "python3"
  },
  "latex_envs": {
   "LaTeX_envs_menu_present": true,
   "autoclose": false,
   "autocomplete": true,
   "bibliofile": "biblio.bib",
   "cite_by": "apalike",
   "current_citInitial": 1,
   "eqLabelWithNumbers": true,
   "eqNumInitial": 1,
   "hotkeys": {
    "equation": "Ctrl-E",
    "itemize": "Ctrl-I"
   },
   "labels_anchors": false,
   "latex_user_defs": false,
   "report_style_numbering": false,
   "user_envs_cfg": false
  }
 },
 "nbformat": 4,
 "nbformat_minor": 2
}
